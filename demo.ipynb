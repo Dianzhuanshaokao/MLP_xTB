{
 "cells": [
  {
   "cell_type": "code",
   "execution_count": 1,
   "id": "b70e5b5d",
   "metadata": {},
   "outputs": [
    {
     "name": "stderr",
     "output_type": "stream",
     "text": [
      "/home/netszx/miniforge/envs/DFT/lib/python3.12/site-packages/e3nn/o3/_wigner.py:10: UserWarning: Environment variable TORCH_FORCE_NO_WEIGHTS_ONLY_LOAD detected, since the`weights_only` argument was not explicitly passed to `torch.load`, forcing weights_only=False.\n",
      "  _Jd, _W3j_flat, _W3j_indices = torch.load(os.path.join(os.path.dirname(__file__), 'constants.pt'))\n"
     ]
    },
    {
     "name": "stdout",
     "output_type": "stream",
     "text": [
      "cuequivariance or cuequivariance_torch is not available. Cuequivariance acceleration will be disabled.\n"
     ]
    }
   ],
   "source": [
    "import torch\n",
    "from xtb.ase.calculator import XTB\n",
    "import numpy as np\n",
    "import os\n",
    "from ase.io import read, write\n",
    "from ase.md.langevin import Langevin\n",
    "from ase import units\n",
    "from mace.calculators import MACECalculator\n",
    "import pickle\n",
    "from src.reaction_detector import analyze_reaction\n",
    "from src.hybrid_calculator import HybridCalculator"
   ]
  },
  {
   "cell_type": "code",
   "execution_count": 2,
   "id": "caf46cdb",
   "metadata": {},
   "outputs": [
    {
     "name": "stdout",
     "output_type": "stream",
     "text": [
      "Using head Default out of ['Default']\n"
     ]
    }
   ],
   "source": [
    "MACE_MODEL = '/home/netszx/models/2024-01-07-mace-128-L2_epoch-199.model'\n",
    "mace_calc = MACECalculator(model_paths = MACE_MODEL, device=\"cuda\" if torch.cuda.is_available() else \"cpu\", default_dtype=\"float64\")\n",
    "xtb_calc = XTB(method=\"GFN2-xTB\")"
   ]
  },
  {
   "cell_type": "code",
   "execution_count": 4,
   "id": "2806c5e0",
   "metadata": {},
   "outputs": [],
   "source": [
    "atoms = read('structure/Layer.xyz')"
   ]
  },
  {
   "cell_type": "code",
   "execution_count": 5,
   "id": "ff6f90a3",
   "metadata": {},
   "outputs": [],
   "source": [
    "os.makedirs('outputs', exist_ok=True)\n",
    "\n",
    "ACTIVE_LEARNING_FILE = \"active_learning_pool.pkl\"\n",
    "MAX_STEPS = 10000      # Maximum MD steps\n",
    "CHECK_INTERVAL = 100   # Check for reactions every N steps\n",
    "ERROR_THRESHOLD_ENERGY = 0.1   # eV\n",
    "ERROR_THRESHOLD_FORCE = 0.1    # eV/Å\n",
    "FINETUNE_EVERY_N_SAMPLES = 30  # Number of samples to trigger fine-tuning"
   ]
  },
  {
   "cell_type": "code",
   "execution_count": null,
   "id": "b2832b7a",
   "metadata": {},
   "outputs": [
    {
     "name": "stdout",
     "output_type": "stream",
     "text": [
      "Initialized empty active learning pool.\n"
     ]
    },
    {
     "ename": "FileNotFoundError",
     "evalue": "[Errno 2] No such file or directory: 'adaptive/adaptive_mlmd.traj'",
     "output_type": "error",
     "traceback": [
      "\u001b[31m---------------------------------------------------------------------------\u001b[39m",
      "\u001b[31mFileNotFoundError\u001b[39m                         Traceback (most recent call last)",
      "\u001b[36mCell\u001b[39m\u001b[36m \u001b[39m\u001b[32mIn[6]\u001b[39m\u001b[32m, line 9\u001b[39m\n\u001b[32m      6\u001b[39m     active_learning_pool = []\n\u001b[32m      7\u001b[39m     \u001b[38;5;28mprint\u001b[39m(\u001b[33m\"\u001b[39m\u001b[33mInitialized empty active learning pool.\u001b[39m\u001b[33m\"\u001b[39m)\n\u001b[32m----> \u001b[39m\u001b[32m9\u001b[39m dyn = \u001b[43mLangevin\u001b[49m\u001b[43m(\u001b[49m\n\u001b[32m     10\u001b[39m \u001b[43m    \u001b[49m\u001b[43matoms\u001b[49m\u001b[43m,\u001b[49m\n\u001b[32m     11\u001b[39m \u001b[43m    \u001b[49m\u001b[43mtimestep\u001b[49m\u001b[43m=\u001b[49m\u001b[32;43m1.0\u001b[39;49m\u001b[43m \u001b[49m\u001b[43m*\u001b[49m\u001b[43m \u001b[49m\u001b[43munits\u001b[49m\u001b[43m.\u001b[49m\u001b[43mfs\u001b[49m\u001b[43m,\u001b[49m\n\u001b[32m     12\u001b[39m \u001b[43m    \u001b[49m\u001b[43mtemperature_K\u001b[49m\u001b[43m=\u001b[49m\u001b[32;43m300\u001b[39;49m\u001b[43m,\u001b[49m\n\u001b[32m     13\u001b[39m \u001b[43m    \u001b[49m\u001b[43mfriction\u001b[49m\u001b[43m=\u001b[49m\u001b[32;43m0.01\u001b[39;49m\u001b[43m \u001b[49m\u001b[43m/\u001b[49m\u001b[43m \u001b[49m\u001b[43munits\u001b[49m\u001b[43m.\u001b[49m\u001b[43mfs\u001b[49m\u001b[43m,\u001b[49m\n\u001b[32m     14\u001b[39m \u001b[43m    \u001b[49m\u001b[43mtrajectory\u001b[49m\u001b[43m=\u001b[49m\u001b[33;43m'\u001b[39;49m\u001b[33;43madaptive/adaptive_mlmd.traj\u001b[39;49m\u001b[33;43m'\u001b[39;49m\n\u001b[32m     15\u001b[39m \u001b[43m)\u001b[49m\n\u001b[32m     17\u001b[39m hybrid_calc = HybridCalculator(mace_calc, xtb_calc, R_inner=\u001b[32m2.5\u001b[39m, R_outer=\u001b[32m4.5\u001b[39m)\n\u001b[32m     18\u001b[39m hybrid_calc.set_energy_offset(atoms)\n",
      "\u001b[36mFile \u001b[39m\u001b[32m~/miniforge/envs/DFT/lib/python3.12/site-packages/ase/md/langevin.py:94\u001b[39m, in \u001b[36mLangevin.__init__\u001b[39m\u001b[34m(self, atoms, timestep, temperature, friction, fixcm, temperature_K, rng, **kwargs)\u001b[39m\n\u001b[32m     92\u001b[39m \u001b[38;5;28;01melse\u001b[39;00m:\n\u001b[32m     93\u001b[39m     \u001b[38;5;28mself\u001b[39m.rng = rng\n\u001b[32m---> \u001b[39m\u001b[32m94\u001b[39m \u001b[43mMolecularDynamics\u001b[49m\u001b[43m.\u001b[49m\u001b[34;43m__init__\u001b[39;49m\u001b[43m(\u001b[49m\u001b[38;5;28;43mself\u001b[39;49m\u001b[43m,\u001b[49m\u001b[43m \u001b[49m\u001b[43matoms\u001b[49m\u001b[43m,\u001b[49m\u001b[43m \u001b[49m\u001b[43mtimestep\u001b[49m\u001b[43m,\u001b[49m\u001b[43m \u001b[49m\u001b[43m*\u001b[49m\u001b[43m*\u001b[49m\u001b[43mkwargs\u001b[49m\u001b[43m)\u001b[49m\n\u001b[32m     95\u001b[39m \u001b[38;5;28mself\u001b[39m.updatevars()\n",
      "\u001b[36mFile \u001b[39m\u001b[32m~/miniforge/envs/DFT/lib/python3.12/site-packages/ase/md/md.py:103\u001b[39m, in \u001b[36mMolecularDynamics.__init__\u001b[39m\u001b[34m(self, atoms, timestep, trajectory, logfile, loginterval, **kwargs)\u001b[39m\n\u001b[32m    100\u001b[39m \u001b[38;5;66;03m# dt as to be attached _before_ parent class is initialized\u001b[39;00m\n\u001b[32m    101\u001b[39m \u001b[38;5;28mself\u001b[39m.dt = timestep\n\u001b[32m--> \u001b[39m\u001b[32m103\u001b[39m \u001b[38;5;28;43msuper\u001b[39;49m\u001b[43m(\u001b[49m\u001b[43m)\u001b[49m\u001b[43m.\u001b[49m\u001b[34;43m__init__\u001b[39;49m\u001b[43m(\u001b[49m\n\u001b[32m    104\u001b[39m \u001b[43m    \u001b[49m\u001b[43matoms\u001b[49m\u001b[43m,\u001b[49m\n\u001b[32m    105\u001b[39m \u001b[43m    \u001b[49m\u001b[43mlogfile\u001b[49m\u001b[43m=\u001b[49m\u001b[38;5;28;43;01mNone\u001b[39;49;00m\u001b[43m,\u001b[49m\n\u001b[32m    106\u001b[39m \u001b[43m    \u001b[49m\u001b[43mtrajectory\u001b[49m\u001b[43m=\u001b[49m\u001b[43mtrajectory\u001b[49m\u001b[43m,\u001b[49m\n\u001b[32m    107\u001b[39m \u001b[43m    \u001b[49m\u001b[43mloginterval\u001b[49m\u001b[43m=\u001b[49m\u001b[43mloginterval\u001b[49m\u001b[43m,\u001b[49m\n\u001b[32m    108\u001b[39m \u001b[43m    \u001b[49m\u001b[43m*\u001b[49m\u001b[43m*\u001b[49m\u001b[43mkwargs\u001b[49m\u001b[43m,\u001b[49m\n\u001b[32m    109\u001b[39m \u001b[43m\u001b[49m\u001b[43m)\u001b[49m\n\u001b[32m    111\u001b[39m \u001b[38;5;66;03m# Some codes (e.g. Asap) may be using filters to\u001b[39;00m\n\u001b[32m    112\u001b[39m \u001b[38;5;66;03m# constrain atoms or do other things.  Current state of the art\u001b[39;00m\n\u001b[32m    113\u001b[39m \u001b[38;5;66;03m# is that \"atoms\" must be either Atoms or Filter in order to\u001b[39;00m\n\u001b[32m   (...)\u001b[39m\u001b[32m    118\u001b[39m \u001b[38;5;66;03m# That way we won't need to test multiple cases.  Currently,\u001b[39;00m\n\u001b[32m    119\u001b[39m \u001b[38;5;66;03m# we do not test /any/ kind of MD with any kind of Filter in ASE.\u001b[39;00m\n\u001b[32m    120\u001b[39m \u001b[38;5;28mself\u001b[39m.atoms = atoms\n",
      "\u001b[36mFile \u001b[39m\u001b[32m~/miniforge/envs/DFT/lib/python3.12/site-packages/ase/optimize/optimize.py:130\u001b[39m, in \u001b[36mDynamics.__init__\u001b[39m\u001b[34m(self, atoms, logfile, trajectory, append_trajectory, master, comm, loginterval)\u001b[39m\n\u001b[32m    128\u001b[39m         \u001b[38;5;28;01mfrom\u001b[39;00m\u001b[38;5;250m \u001b[39m\u001b[34;01mase\u001b[39;00m\u001b[34;01m.\u001b[39;00m\u001b[34;01mio\u001b[39;00m\u001b[34;01m.\u001b[39;00m\u001b[34;01mtrajectory\u001b[39;00m\u001b[38;5;250m \u001b[39m\u001b[38;5;28;01mimport\u001b[39;00m Trajectory\n\u001b[32m    129\u001b[39m         mode = \u001b[33m\"\u001b[39m\u001b[33ma\u001b[39m\u001b[33m\"\u001b[39m \u001b[38;5;28;01mif\u001b[39;00m append_trajectory \u001b[38;5;28;01melse\u001b[39;00m \u001b[33m\"\u001b[39m\u001b[33mw\u001b[39m\u001b[33m\"\u001b[39m\n\u001b[32m--> \u001b[39m\u001b[32m130\u001b[39m         trajectory = \u001b[38;5;28mself\u001b[39m.closelater(\u001b[43mTrajectory\u001b[49m\u001b[43m(\u001b[49m\n\u001b[32m    131\u001b[39m \u001b[43m            \u001b[49m\u001b[43mtrajectory\u001b[49m\u001b[43m,\u001b[49m\u001b[43m \u001b[49m\u001b[43mmode\u001b[49m\u001b[43m=\u001b[49m\u001b[43mmode\u001b[49m\u001b[43m,\u001b[49m\u001b[43m \u001b[49m\u001b[43mmaster\u001b[49m\u001b[43m=\u001b[49m\u001b[43mmaster\u001b[49m\u001b[43m,\u001b[49m\u001b[43m \u001b[49m\u001b[43mcomm\u001b[49m\u001b[43m=\u001b[49m\u001b[43mcomm\u001b[49m\n\u001b[32m    132\u001b[39m \u001b[43m        \u001b[49m\u001b[43m)\u001b[49m)\n\u001b[32m    133\u001b[39m     \u001b[38;5;28mself\u001b[39m.attach(\n\u001b[32m    134\u001b[39m         trajectory,\n\u001b[32m    135\u001b[39m         interval=loginterval,\n\u001b[32m    136\u001b[39m         atoms=\u001b[38;5;28mself\u001b[39m.optimizable,\n\u001b[32m    137\u001b[39m     )\n\u001b[32m    139\u001b[39m \u001b[38;5;28mself\u001b[39m.trajectory = trajectory\n",
      "\u001b[36mFile \u001b[39m\u001b[32m~/miniforge/envs/DFT/lib/python3.12/site-packages/ase/io/trajectory.py:58\u001b[39m, in \u001b[36mTrajectory\u001b[39m\u001b[34m(filename, mode, atoms, properties, master, comm)\u001b[39m\n\u001b[32m     56\u001b[39m \u001b[38;5;28;01mif\u001b[39;00m mode == \u001b[33m'\u001b[39m\u001b[33mr\u001b[39m\u001b[33m'\u001b[39m:\n\u001b[32m     57\u001b[39m     \u001b[38;5;28;01mreturn\u001b[39;00m TrajectoryReader(filename)\n\u001b[32m---> \u001b[39m\u001b[32m58\u001b[39m \u001b[38;5;28;01mreturn\u001b[39;00m \u001b[43mTrajectoryWriter\u001b[49m\u001b[43m(\u001b[49m\u001b[43mfilename\u001b[49m\u001b[43m,\u001b[49m\u001b[43m \u001b[49m\u001b[43mmode\u001b[49m\u001b[43m,\u001b[49m\u001b[43m \u001b[49m\u001b[43matoms\u001b[49m\u001b[43m,\u001b[49m\u001b[43m \u001b[49m\u001b[43mproperties\u001b[49m\u001b[43m,\u001b[49m\u001b[43m \u001b[49m\u001b[43mmaster\u001b[49m\u001b[43m=\u001b[49m\u001b[43mmaster\u001b[49m\u001b[43m,\u001b[49m\n\u001b[32m     59\u001b[39m \u001b[43m                        \u001b[49m\u001b[43mcomm\u001b[49m\u001b[43m=\u001b[49m\u001b[43mcomm\u001b[49m\u001b[43m)\u001b[49m\n",
      "\u001b[36mFile \u001b[39m\u001b[32m~/miniforge/envs/DFT/lib/python3.12/site-packages/ase/io/trajectory.py:111\u001b[39m, in \u001b[36mTrajectoryWriter.__init__\u001b[39m\u001b[34m(self, filename, mode, atoms, properties, master, comm)\u001b[39m\n\u001b[32m    108\u001b[39m \u001b[38;5;28mself\u001b[39m.header_data = \u001b[38;5;28;01mNone\u001b[39;00m\n\u001b[32m    109\u001b[39m \u001b[38;5;28mself\u001b[39m.multiple_headers = \u001b[38;5;28;01mFalse\u001b[39;00m\n\u001b[32m--> \u001b[39m\u001b[32m111\u001b[39m \u001b[38;5;28;43mself\u001b[39;49m\u001b[43m.\u001b[49m\u001b[43m_open\u001b[49m\u001b[43m(\u001b[49m\u001b[43mfilename\u001b[49m\u001b[43m,\u001b[49m\u001b[43m \u001b[49m\u001b[43mmode\u001b[49m\u001b[43m)\u001b[49m\n",
      "\u001b[36mFile \u001b[39m\u001b[32m~/miniforge/envs/DFT/lib/python3.12/site-packages/ase/io/trajectory.py:127\u001b[39m, in \u001b[36mTrajectoryWriter._open\u001b[39m\u001b[34m(self, filename, mode)\u001b[39m\n\u001b[32m    125\u001b[39m     \u001b[38;5;28;01mraise\u001b[39;00m \u001b[38;5;167;01mValueError\u001b[39;00m(\u001b[33m'\u001b[39m\u001b[33mmode must be \u001b[39m\u001b[33m\"\u001b[39m\u001b[33mw\u001b[39m\u001b[33m\"\u001b[39m\u001b[33m or \u001b[39m\u001b[33m\"\u001b[39m\u001b[33ma\u001b[39m\u001b[33m\"\u001b[39m\u001b[33m.\u001b[39m\u001b[33m'\u001b[39m)\n\u001b[32m    126\u001b[39m \u001b[38;5;28;01mif\u001b[39;00m \u001b[38;5;28mself\u001b[39m.master:\n\u001b[32m--> \u001b[39m\u001b[32m127\u001b[39m     \u001b[38;5;28mself\u001b[39m.backend = \u001b[43mulm\u001b[49m\u001b[43m.\u001b[49m\u001b[43mopen\u001b[49m\u001b[43m(\u001b[49m\u001b[43mfilename\u001b[49m\u001b[43m,\u001b[49m\u001b[43m \u001b[49m\u001b[43mmode\u001b[49m\u001b[43m,\u001b[49m\u001b[43m \u001b[49m\u001b[43mtag\u001b[49m\u001b[43m=\u001b[49m\u001b[33;43m'\u001b[39;49m\u001b[33;43mASE-Trajectory\u001b[39;49m\u001b[33;43m'\u001b[39;49m\u001b[43m)\u001b[49m\n\u001b[32m    128\u001b[39m     \u001b[38;5;28;01mif\u001b[39;00m \u001b[38;5;28mlen\u001b[39m(\u001b[38;5;28mself\u001b[39m.backend) > \u001b[32m0\u001b[39m \u001b[38;5;129;01mand\u001b[39;00m mode == \u001b[33m'\u001b[39m\u001b[33ma\u001b[39m\u001b[33m'\u001b[39m:\n\u001b[32m    129\u001b[39m         \u001b[38;5;28;01mwith\u001b[39;00m Trajectory(filename) \u001b[38;5;28;01mas\u001b[39;00m traj:\n",
      "\u001b[36mFile \u001b[39m\u001b[32m~/miniforge/envs/DFT/lib/python3.12/site-packages/ase/io/ulm.py:161\u001b[39m, in \u001b[36mopen\u001b[39m\u001b[34m(filename, mode, index, tag)\u001b[39m\n\u001b[32m    159\u001b[39m     \u001b[32m2\u001b[39m / \u001b[32m0\u001b[39m\n\u001b[32m    160\u001b[39m \u001b[38;5;28;01massert\u001b[39;00m index \u001b[38;5;129;01mis\u001b[39;00m \u001b[38;5;28;01mNone\u001b[39;00m\n\u001b[32m--> \u001b[39m\u001b[32m161\u001b[39m \u001b[38;5;28;01mreturn\u001b[39;00m \u001b[43mWriter\u001b[49m\u001b[43m(\u001b[49m\u001b[43mfilename\u001b[49m\u001b[43m,\u001b[49m\u001b[43m \u001b[49m\u001b[43mmode\u001b[49m\u001b[43m,\u001b[49m\u001b[43m \u001b[49m\u001b[43mtag\u001b[49m\u001b[43m \u001b[49m\u001b[38;5;129;43;01mor\u001b[39;49;00m\u001b[43m \u001b[49m\u001b[33;43m'\u001b[39;49m\u001b[33;43m'\u001b[39;49m\u001b[43m)\u001b[49m\n",
      "\u001b[36mFile \u001b[39m\u001b[32m~/miniforge/envs/DFT/lib/python3.12/site-packages/ase/io/ulm.py:248\u001b[39m, in \u001b[36mWriter.__init__\u001b[39m\u001b[34m(self, fd, mode, tag, data)\u001b[39m\n\u001b[32m    245\u001b[39m \u001b[38;5;28mself\u001b[39m.offsets = np.array([-\u001b[32m1\u001b[39m], np.int64)\n\u001b[32m    247\u001b[39m \u001b[38;5;28;01mif\u001b[39;00m \u001b[38;5;28misinstance\u001b[39m(fd, Path):\n\u001b[32m--> \u001b[39m\u001b[32m248\u001b[39m     fd = \u001b[43mfd\u001b[49m\u001b[43m.\u001b[49m\u001b[43mopen\u001b[49m\u001b[43m(\u001b[49m\u001b[33;43m'\u001b[39;49m\u001b[33;43mwb\u001b[39;49m\u001b[33;43m'\u001b[39;49m\u001b[43m)\u001b[49m\n\u001b[32m    250\u001b[39m \u001b[38;5;66;03m# File format identifier and other stuff:\u001b[39;00m\n\u001b[32m    251\u001b[39m a = np.array([VERSION, \u001b[38;5;28mself\u001b[39m.nitems, \u001b[38;5;28mself\u001b[39m.pos0], np.int64)\n",
      "\u001b[36mFile \u001b[39m\u001b[32m~/miniforge/envs/DFT/lib/python3.12/pathlib.py:1013\u001b[39m, in \u001b[36mPath.open\u001b[39m\u001b[34m(self, mode, buffering, encoding, errors, newline)\u001b[39m\n\u001b[32m   1011\u001b[39m \u001b[38;5;28;01mif\u001b[39;00m \u001b[33m\"\u001b[39m\u001b[33mb\u001b[39m\u001b[33m\"\u001b[39m \u001b[38;5;129;01mnot\u001b[39;00m \u001b[38;5;129;01min\u001b[39;00m mode:\n\u001b[32m   1012\u001b[39m     encoding = io.text_encoding(encoding)\n\u001b[32m-> \u001b[39m\u001b[32m1013\u001b[39m \u001b[38;5;28;01mreturn\u001b[39;00m \u001b[43mio\u001b[49m\u001b[43m.\u001b[49m\u001b[43mopen\u001b[49m\u001b[43m(\u001b[49m\u001b[38;5;28;43mself\u001b[39;49m\u001b[43m,\u001b[49m\u001b[43m \u001b[49m\u001b[43mmode\u001b[49m\u001b[43m,\u001b[49m\u001b[43m \u001b[49m\u001b[43mbuffering\u001b[49m\u001b[43m,\u001b[49m\u001b[43m \u001b[49m\u001b[43mencoding\u001b[49m\u001b[43m,\u001b[49m\u001b[43m \u001b[49m\u001b[43merrors\u001b[49m\u001b[43m,\u001b[49m\u001b[43m \u001b[49m\u001b[43mnewline\u001b[49m\u001b[43m)\u001b[49m\n",
      "\u001b[31mFileNotFoundError\u001b[39m: [Errno 2] No such file or directory: 'adaptive/adaptive_mlmd.traj'"
     ]
    }
   ],
   "source": [
    "if os.path.exists(ACTIVE_LEARNING_FILE):\n",
    "    with open(ACTIVE_LEARNING_FILE, 'rb') as f:\n",
    "        active_learning_pool = pickle.load(f)\n",
    "    print(f\"Loaded {len(active_learning_pool)} samples from active learning pool.\")\n",
    "else:\n",
    "    active_learning_pool = []\n",
    "    print(\"Initialized empty active learning pool.\")\n",
    "\n",
    "dyn = Langevin(\n",
    "    atoms,\n",
    "    timestep=1.0 * units.fs,\n",
    "    temperature_K=300,\n",
    "    friction=0.01 / units.fs,\n",
    "    trajectory='outputs/adaptive_mlmd.traj'\n",
    ")\n",
    "\n",
    "hybrid_calc = HybridCalculator(mace_calc, xtb_calc, R_inner=2.5, R_outer=4.5)\n",
    "hybrid_calc.set_energy_offset(atoms)\n",
    "\n",
    "print(\"Starting adaptive ML-MD...\")\n",
    "\n",
    "for step in range(MAX_STEPS):\n",
    "    dyn.run(steps=1)\n",
    "    \n",
    "    if step % CHECK_INTERVAL == 0:\n",
    "        is_reactive, reactive_indices = analyze_reaction(atoms, verbose=True)\n",
    "        if is_reactive:\n",
    "            hybrid_calc.calculate(atoms=atoms, reactive_indices=reactive_indices)\n",
    "            print(f\"\\n Reaction detected at step {step}\")\n",
    "            # Compute energies and forces\n",
    "            E_hybrid = hybrid_calc.results['energy']\n",
    "            F_hybrid = hybrid_calc.results['forces']\n",
    "\n",
    "            E_mlp = atoms.get_potential_energy()\n",
    "            F_mlp = atoms.get_forces()\n",
    "            \n",
    "            dE = abs(E_hybrid- E_mlp)\n",
    "            dF = np.mean(np.linalg.norm(F_hybrid - F_mlp, axis=1))\n",
    "            print(f\"dE = {dE:.4f} eV, dF = {dF:.4f} eV/Å\")\n",
    "\n",
    "            # Check if errors exceed thresholds\n",
    "            if dE > ERROR_THRESHOLD_ENERGY or dF > ERROR_THRESHOLD_FORCE:\n",
    "                sample = {\n",
    "                    'atoms': atoms.copy(), \n",
    "                    'energy': E_hybrid, \n",
    "                    'forces': F_hybrid.copy(), \n",
    "                    'step': step,\n",
    "                    'reactive_indices': reactive_indices\n",
    "                    }\n",
    "                active_learning_pool.append(sample)\n",
    "                print(\"Added to active learning pool\")\n",
    "\n",
    "                with open(ACTIVE_LEARNING_FILE, 'wb') as f:\n",
    "                    pickle.dump(active_learning_pool, f)\n",
    "\n",
    "                # Check if we need to trigger fine-tuning\n",
    "                if len(active_learning_pool) >= FINETUNE_EVERY_N_SAMPLES:\n",
    "                    print(\"\\n Triggering MACE fine-tuning...\")\n",
    "                    print(\"Please run Cell 6 to fine-tune the model.\")\n",
    "                    break\n",
    "        else:\n",
    "            print(f\"No reaction detected at step {step}.\")\n",
    "print(\"Adaptive MD finished.\")"
   ]
  }
 ],
 "metadata": {
  "kernelspec": {
   "display_name": "DFT",
   "language": "python",
   "name": "python3"
  },
  "language_info": {
   "codemirror_mode": {
    "name": "ipython",
    "version": 3
   },
   "file_extension": ".py",
   "mimetype": "text/x-python",
   "name": "python",
   "nbconvert_exporter": "python",
   "pygments_lexer": "ipython3",
   "version": "3.12.11"
  }
 },
 "nbformat": 4,
 "nbformat_minor": 5
}
