{
 "cells": [
  {
   "cell_type": "code",
   "execution_count": 1,
   "id": "b70e5b5d",
   "metadata": {},
   "outputs": [
    {
     "name": "stderr",
     "output_type": "stream",
     "text": [
      "/home/netszx/miniforge/envs/DFT/lib/python3.12/site-packages/e3nn/o3/_wigner.py:10: UserWarning: Environment variable TORCH_FORCE_NO_WEIGHTS_ONLY_LOAD detected, since the`weights_only` argument was not explicitly passed to `torch.load`, forcing weights_only=False.\n",
      "  _Jd, _W3j_flat, _W3j_indices = torch.load(os.path.join(os.path.dirname(__file__), 'constants.pt'))\n"
     ]
    },
    {
     "name": "stdout",
     "output_type": "stream",
     "text": [
      "cuequivariance or cuequivariance_torch is not available. Cuequivariance acceleration will be disabled.\n"
     ]
    }
   ],
   "source": [
    "import torch\n",
    "from xtb.ase.calculator import XTB\n",
    "import numpy as np\n",
    "import os\n",
    "from ase.io import read, write\n",
    "from ase.md.langevin import Langevin\n",
    "from ase import units\n",
    "from mace.calculators import MACECalculator\n",
    "import pickle\n",
    "from src.reaction_detector import analyze_reaction\n",
    "from src.hybrid_calculator import HybridCalculator"
   ]
  },
  {
   "cell_type": "code",
   "execution_count": 12,
   "id": "caf46cdb",
   "metadata": {},
   "outputs": [
    {
     "name": "stdout",
     "output_type": "stream",
     "text": [
      "Using head Default out of ['Default']\n"
     ]
    }
   ],
   "source": [
    "MACE_MODEL = '/home/netszx/models/2024-01-07-mace-128-L2_epoch-199.model'\n",
    "mace_calc = MACECalculator(model_paths = MACE_MODEL, device=\"cuda\" if torch.cuda.is_available() else \"cpu\", default_dtype=\"float64\")\n",
    "xtb_calc = XTB(method=\"GFN2-xTB\", accuracy=2.0)"
   ]
  },
  {
   "cell_type": "code",
   "execution_count": 8,
   "id": "2806c5e0",
   "metadata": {},
   "outputs": [],
   "source": [
    "atoms = read('structure/Layer_relaxed.xyz')"
   ]
  },
  {
   "cell_type": "code",
   "execution_count": 13,
   "id": "ff6f90a3",
   "metadata": {},
   "outputs": [],
   "source": [
    "os.makedirs('outputs', exist_ok=True)\n",
    "\n",
    "ACTIVE_LEARNING_FILE = \"active_learning_pool.pkl\"\n",
    "MAX_STEPS = 10000      # Maximum MD steps\n",
    "CHECK_INTERVAL = 100   # Check for reactions every N steps\n",
    "ERROR_THRESHOLD_ENERGY = 0.1   # eV\n",
    "ERROR_THRESHOLD_FORCE = 0.1    # eV/Å\n",
    "FINETUNE_EVERY_N_SAMPLES = 30  # Number of samples to trigger fine-tuning"
   ]
  },
  {
   "cell_type": "code",
   "execution_count": 14,
   "id": "b2832b7a",
   "metadata": {},
   "outputs": [
    {
     "name": "stdout",
     "output_type": "stream",
     "text": [
      "Initialized empty active learning pool.\n"
     ]
    },
    {
     "ename": "CalculationFailed",
     "evalue": "xtb could not evaluate input",
     "output_type": "error",
     "traceback": [
      "\u001b[31m---------------------------------------------------------------------------\u001b[39m",
      "\u001b[31mXTBException\u001b[39m                              Traceback (most recent call last)",
      "\u001b[36mFile \u001b[39m\u001b[32m~/miniforge/envs/DFT/lib/python3.12/site-packages/xtb/ase/calculator.py:231\u001b[39m, in \u001b[36mXTB.calculate\u001b[39m\u001b[34m(self, atoms, properties, system_changes)\u001b[39m\n\u001b[32m    230\u001b[39m \u001b[38;5;28;01mtry\u001b[39;00m:\n\u001b[32m--> \u001b[39m\u001b[32m231\u001b[39m     \u001b[38;5;28mself\u001b[39m._res = \u001b[38;5;28;43mself\u001b[39;49m\u001b[43m.\u001b[49m\u001b[43m_xtb\u001b[49m\u001b[43m.\u001b[49m\u001b[43msinglepoint\u001b[49m\u001b[43m(\u001b[49m\u001b[38;5;28;43mself\u001b[39;49m\u001b[43m.\u001b[49m\u001b[43m_res\u001b[49m\u001b[43m)\u001b[49m\n\u001b[32m    232\u001b[39m \u001b[38;5;28;01mexcept\u001b[39;00m XTBException:\n",
      "\u001b[36mFile \u001b[39m\u001b[32m~/miniforge/envs/DFT/lib/python3.12/site-packages/xtb/interface.py:826\u001b[39m, in \u001b[36mCalculator.singlepoint\u001b[39m\u001b[34m(self, res, copy)\u001b[39m\n\u001b[32m    825\u001b[39m \u001b[38;5;28;01mif\u001b[39;00m \u001b[38;5;28mself\u001b[39m.check() != \u001b[32m0\u001b[39m:\n\u001b[32m--> \u001b[39m\u001b[32m826\u001b[39m     \u001b[38;5;28;01mraise\u001b[39;00m XTBException(\u001b[38;5;28mself\u001b[39m.get_error(\u001b[33m\"\u001b[39m\u001b[33mSingle point calculation failed\u001b[39m\u001b[33m\"\u001b[39m))\n\u001b[32m    828\u001b[39m \u001b[38;5;28;01mreturn\u001b[39;00m _res\n",
      "\u001b[31mXTBException\u001b[39m: Single point calculation failed:\n-2- xtb_calculator_singlepoint: Electronic structure method terminated\n-1- scf: Self consistent charge iterator did not converge",
      "\nDuring handling of the above exception, another exception occurred:\n",
      "\u001b[31mCalculationFailed\u001b[39m                         Traceback (most recent call last)",
      "\u001b[36mCell\u001b[39m\u001b[36m \u001b[39m\u001b[32mIn[14]\u001b[39m\u001b[32m, line 18\u001b[39m\n\u001b[32m      9\u001b[39m dyn = Langevin(\n\u001b[32m     10\u001b[39m     atoms,\n\u001b[32m     11\u001b[39m     timestep=\u001b[32m1.0\u001b[39m * units.fs,\n\u001b[32m   (...)\u001b[39m\u001b[32m     14\u001b[39m     trajectory=\u001b[33m'\u001b[39m\u001b[33moutputs/adaptive_mlmd.traj\u001b[39m\u001b[33m'\u001b[39m\n\u001b[32m     15\u001b[39m )\n\u001b[32m     17\u001b[39m hybrid_calc = HybridCalculator(mace_calc, xtb_calc, R_inner=\u001b[32m2.5\u001b[39m, R_outer=\u001b[32m4.5\u001b[39m)\n\u001b[32m---> \u001b[39m\u001b[32m18\u001b[39m \u001b[43mhybrid_calc\u001b[49m\u001b[43m.\u001b[49m\u001b[43mset_energy_offset\u001b[49m\u001b[43m(\u001b[49m\u001b[43matoms\u001b[49m\u001b[43m)\u001b[49m\n\u001b[32m     20\u001b[39m \u001b[38;5;28mprint\u001b[39m(\u001b[33m\"\u001b[39m\u001b[33mStarting adaptive ML-MD...\u001b[39m\u001b[33m\"\u001b[39m)\n\u001b[32m     22\u001b[39m \u001b[38;5;28;01mfor\u001b[39;00m step \u001b[38;5;129;01min\u001b[39;00m \u001b[38;5;28mrange\u001b[39m(MAX_STEPS):\n",
      "\u001b[36mFile \u001b[39m\u001b[32m~/MyGithubs/MLP_xTB/src/hybrid_calculator.py:38\u001b[39m, in \u001b[36mHybridCalculator.set_energy_offset\u001b[39m\u001b[34m(self, atoms)\u001b[39m\n\u001b[32m     35\u001b[39m E_mlp = atoms_ref.get_potential_energy()\n\u001b[32m     37\u001b[39m atoms_ref.calc = \u001b[38;5;28mself\u001b[39m.xtb_calc\n\u001b[32m---> \u001b[39m\u001b[32m38\u001b[39m E_xtb = \u001b[43matoms_ref\u001b[49m\u001b[43m.\u001b[49m\u001b[43mget_potential_energy\u001b[49m\u001b[43m(\u001b[49m\u001b[43m)\u001b[49m\n\u001b[32m     40\u001b[39m \u001b[38;5;28mself\u001b[39m.energy_offset = E_xtb - E_mlp\n\u001b[32m     41\u001b[39m \u001b[38;5;28mprint\u001b[39m(\u001b[33mf\u001b[39m\u001b[33m\"\u001b[39m\u001b[33mEnergy offset set: \u001b[39m\u001b[38;5;132;01m{\u001b[39;00m\u001b[38;5;28mself\u001b[39m.energy_offset\u001b[38;5;132;01m:\u001b[39;00m\u001b[33m.6f\u001b[39m\u001b[38;5;132;01m}\u001b[39;00m\u001b[33m eV\u001b[39m\u001b[33m\"\u001b[39m)\n",
      "\u001b[36mFile \u001b[39m\u001b[32m~/miniforge/envs/DFT/lib/python3.12/site-packages/ase/atoms.py:772\u001b[39m, in \u001b[36mAtoms.get_potential_energy\u001b[39m\u001b[34m(self, force_consistent, apply_constraint)\u001b[39m\n\u001b[32m    769\u001b[39m     energy = \u001b[38;5;28mself\u001b[39m._calc.get_potential_energy(\n\u001b[32m    770\u001b[39m         \u001b[38;5;28mself\u001b[39m, force_consistent=force_consistent)\n\u001b[32m    771\u001b[39m \u001b[38;5;28;01melse\u001b[39;00m:\n\u001b[32m--> \u001b[39m\u001b[32m772\u001b[39m     energy = \u001b[38;5;28;43mself\u001b[39;49m\u001b[43m.\u001b[49m\u001b[43m_calc\u001b[49m\u001b[43m.\u001b[49m\u001b[43mget_potential_energy\u001b[49m\u001b[43m(\u001b[49m\u001b[38;5;28;43mself\u001b[39;49m\u001b[43m)\u001b[49m\n\u001b[32m    773\u001b[39m \u001b[38;5;28;01mif\u001b[39;00m apply_constraint:\n\u001b[32m    774\u001b[39m     \u001b[38;5;28;01mfor\u001b[39;00m constraint \u001b[38;5;129;01min\u001b[39;00m \u001b[38;5;28mself\u001b[39m.constraints:\n",
      "\u001b[36mFile \u001b[39m\u001b[32m~/miniforge/envs/DFT/lib/python3.12/site-packages/ase/calculators/abc.py:26\u001b[39m, in \u001b[36mGetPropertiesMixin.get_potential_energy\u001b[39m\u001b[34m(self, atoms, force_consistent)\u001b[39m\n\u001b[32m     24\u001b[39m \u001b[38;5;28;01melse\u001b[39;00m:\n\u001b[32m     25\u001b[39m     name = \u001b[33m'\u001b[39m\u001b[33menergy\u001b[39m\u001b[33m'\u001b[39m\n\u001b[32m---> \u001b[39m\u001b[32m26\u001b[39m \u001b[38;5;28;01mreturn\u001b[39;00m \u001b[38;5;28;43mself\u001b[39;49m\u001b[43m.\u001b[49m\u001b[43mget_property\u001b[49m\u001b[43m(\u001b[49m\u001b[43mname\u001b[49m\u001b[43m,\u001b[49m\u001b[43m \u001b[49m\u001b[43matoms\u001b[49m\u001b[43m)\u001b[49m\n",
      "\u001b[36mFile \u001b[39m\u001b[32m~/miniforge/envs/DFT/lib/python3.12/site-packages/ase/calculators/calculator.py:515\u001b[39m, in \u001b[36mBaseCalculator.get_property\u001b[39m\u001b[34m(self, name, atoms, allow_calculation)\u001b[39m\n\u001b[32m    512\u001b[39m     \u001b[38;5;28;01mif\u001b[39;00m \u001b[38;5;28mself\u001b[39m.use_cache:\n\u001b[32m    513\u001b[39m         \u001b[38;5;28mself\u001b[39m.atoms = atoms.copy()\n\u001b[32m--> \u001b[39m\u001b[32m515\u001b[39m     \u001b[38;5;28;43mself\u001b[39;49m\u001b[43m.\u001b[49m\u001b[43mcalculate\u001b[49m\u001b[43m(\u001b[49m\u001b[43matoms\u001b[49m\u001b[43m,\u001b[49m\u001b[43m \u001b[49m\u001b[43m[\u001b[49m\u001b[43mname\u001b[49m\u001b[43m]\u001b[49m\u001b[43m,\u001b[49m\u001b[43m \u001b[49m\u001b[43msystem_changes\u001b[49m\u001b[43m)\u001b[49m\n\u001b[32m    517\u001b[39m \u001b[38;5;28;01mif\u001b[39;00m name \u001b[38;5;129;01mnot\u001b[39;00m \u001b[38;5;129;01min\u001b[39;00m \u001b[38;5;28mself\u001b[39m.results:\n\u001b[32m    518\u001b[39m     \u001b[38;5;66;03m# For some reason the calculator was not able to do what we want,\u001b[39;00m\n\u001b[32m    519\u001b[39m     \u001b[38;5;66;03m# and that is OK.\u001b[39;00m\n\u001b[32m    520\u001b[39m     \u001b[38;5;28;01mraise\u001b[39;00m PropertyNotImplementedError(\n\u001b[32m    521\u001b[39m         \u001b[33m'\u001b[39m\u001b[38;5;132;01m{}\u001b[39;00m\u001b[33m not present in this \u001b[39m\u001b[33m'\u001b[39m \u001b[33m'\u001b[39m\u001b[33mcalculation\u001b[39m\u001b[33m'\u001b[39m.format(name)\n\u001b[32m    522\u001b[39m     )\n",
      "\u001b[36mFile \u001b[39m\u001b[32m~/miniforge/envs/DFT/lib/python3.12/site-packages/xtb/ase/calculator.py:233\u001b[39m, in \u001b[36mXTB.calculate\u001b[39m\u001b[34m(self, atoms, properties, system_changes)\u001b[39m\n\u001b[32m    231\u001b[39m     \u001b[38;5;28mself\u001b[39m._res = \u001b[38;5;28mself\u001b[39m._xtb.singlepoint(\u001b[38;5;28mself\u001b[39m._res)\n\u001b[32m    232\u001b[39m \u001b[38;5;28;01mexcept\u001b[39;00m XTBException:\n\u001b[32m--> \u001b[39m\u001b[32m233\u001b[39m     \u001b[38;5;28;01mraise\u001b[39;00m ase_calc.CalculationFailed(\u001b[33m\"\u001b[39m\u001b[33mxtb could not evaluate input\u001b[39m\u001b[33m\"\u001b[39m)\n\u001b[32m    235\u001b[39m \u001b[38;5;66;03m# Check if a wavefunction object is present in results\u001b[39;00m\n\u001b[32m    236\u001b[39m _wfn = \u001b[38;5;28mself\u001b[39m._res.get_number_of_orbitals() > \u001b[32m0\u001b[39m\n",
      "\u001b[31mCalculationFailed\u001b[39m: xtb could not evaluate input"
     ]
    }
   ],
   "source": [
    "if os.path.exists(ACTIVE_LEARNING_FILE):\n",
    "    with open(ACTIVE_LEARNING_FILE, 'rb') as f:\n",
    "        active_learning_pool = pickle.load(f)\n",
    "    print(f\"Loaded {len(active_learning_pool)} samples from active learning pool.\")\n",
    "else:\n",
    "    active_learning_pool = []\n",
    "    print(\"Initialized empty active learning pool.\")\n",
    "\n",
    "dyn = Langevin(\n",
    "    atoms,\n",
    "    timestep=1.0 * units.fs,\n",
    "    temperature_K=300,\n",
    "    friction=0.01 / units.fs,\n",
    "    trajectory='outputs/adaptive_mlmd.traj'\n",
    ")\n",
    "\n",
    "hybrid_calc = HybridCalculator(mace_calc, xtb_calc, R_inner=2.5, R_outer=4.5)\n",
    "\n",
    "print(\"Setting energy offset for hybrid calculator...\")\n",
    "hybrid_calc.set_energy_offset(atoms)\n",
    "\n",
    "print(\"Starting adaptive ML-MD...\")\n",
    "\n",
    "for step in range(MAX_STEPS):\n",
    "    dyn.run(steps=1)\n",
    "    \n",
    "    if step % CHECK_INTERVAL == 0:\n",
    "        is_reactive, reactive_indices = analyze_reaction(atoms, verbose=True)\n",
    "        if is_reactive:\n",
    "            hybrid_calc.calculate(atoms=atoms, reactive_indices=reactive_indices)\n",
    "            print(f\"\\n Reaction detected at step {step}\")\n",
    "            # Compute energies and forces\n",
    "            E_hybrid = hybrid_calc.results['energy']\n",
    "            F_hybrid = hybrid_calc.results['forces']\n",
    "\n",
    "            E_mlp = atoms.get_potential_energy()\n",
    "            F_mlp = atoms.get_forces()\n",
    "            \n",
    "            dE = abs(E_hybrid- E_mlp)\n",
    "            dF = np.mean(np.linalg.norm(F_hybrid - F_mlp, axis=1))\n",
    "            print(f\"dE = {dE:.4f} eV, dF = {dF:.4f} eV/Å\")\n",
    "\n",
    "            # Check if errors exceed thresholds\n",
    "            if dE > ERROR_THRESHOLD_ENERGY or dF > ERROR_THRESHOLD_FORCE:\n",
    "                sample = {\n",
    "                    'atoms': atoms.copy(), \n",
    "                    'energy': E_hybrid, \n",
    "                    'forces': F_hybrid.copy(), \n",
    "                    'step': step,\n",
    "                    'reactive_indices': reactive_indices\n",
    "                    }\n",
    "                active_learning_pool.append(sample)\n",
    "                print(\"Added to active learning pool\")\n",
    "\n",
    "                with open(ACTIVE_LEARNING_FILE, 'wb') as f:\n",
    "                    pickle.dump(active_learning_pool, f)\n",
    "\n",
    "                # Check if we need to trigger fine-tuning\n",
    "                if len(active_learning_pool) >= FINETUNE_EVERY_N_SAMPLES:\n",
    "                    print(\"\\n Triggering MACE fine-tuning...\")\n",
    "                    print(\"Please run Cell 6 to fine-tune the model.\")\n",
    "                    break\n",
    "        else:\n",
    "            print(f\"No reaction detected at step {step}.\")\n",
    "print(\"Adaptive MD finished.\")"
   ]
  }
 ],
 "metadata": {
  "kernelspec": {
   "display_name": "DFT",
   "language": "python",
   "name": "python3"
  },
  "language_info": {
   "codemirror_mode": {
    "name": "ipython",
    "version": 3
   },
   "file_extension": ".py",
   "mimetype": "text/x-python",
   "name": "python",
   "nbconvert_exporter": "python",
   "pygments_lexer": "ipython3",
   "version": "3.12.11"
  }
 },
 "nbformat": 4,
 "nbformat_minor": 5
}
