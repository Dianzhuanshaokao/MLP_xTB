{
 "cells": [
  {
   "cell_type": "code",
   "execution_count": 1,
   "id": "a15c8a83",
   "metadata": {},
   "outputs": [
    {
     "name": "stderr",
     "output_type": "stream",
     "text": [
      "/home/netszx/miniforge/envs/DFT/lib/python3.12/site-packages/e3nn/o3/_wigner.py:10: UserWarning: Environment variable TORCH_FORCE_NO_WEIGHTS_ONLY_LOAD detected, since the`weights_only` argument was not explicitly passed to `torch.load`, forcing weights_only=False.\n",
      "  _Jd, _W3j_flat, _W3j_indices = torch.load(os.path.join(os.path.dirname(__file__), 'constants.pt'))\n"
     ]
    },
    {
     "name": "stdout",
     "output_type": "stream",
     "text": [
      "cuequivariance or cuequivariance_torch is not available. Cuequivariance acceleration will be disabled.\n"
     ]
    }
   ],
   "source": [
    "from ase import Atoms\n",
    "from ase.calculators.calculator import Calculator, all_changes\n",
    "from ase.neighborlist import neighbor_list\n",
    "from mace.calculators import MACECalculator\n",
    "from xtb.ase.calculator import XTB\n",
    "import torch\n",
    "import numpy as np\n",
    "from ase.io import read\n",
    "from mp_api.client import MPRester"
   ]
  },
  {
   "cell_type": "code",
   "execution_count": 19,
   "id": "469e1968",
   "metadata": {},
   "outputs": [
    {
     "data": {
      "application/vnd.jupyter.widget-view+json": {
       "model_id": "cab81b5bc50c43aebe1035bcc2e58b98",
       "version_major": 2,
       "version_minor": 0
      },
      "text/plain": [
       "Retrieving MaterialsDoc documents:   0%|          | 0/1 [00:00<?, ?it/s]"
      ]
     },
     "metadata": {},
     "output_type": "display_data"
    }
   ],
   "source": [
    "API = \"6UhsVQseZ2tkPsqxcMyWnvh82v1fmthq\"\n",
    "with MPRester(API) as mpr:\n",
    "    docs = mpr.materials.search(formula='Li6PS5Cl')\n",
    "    for doc in docs:\n",
    "        structure = doc.structure\n",
    "        cif_path = \"Li6PS5Cl.cif\"\n",
    "        structure.to(filename=str(cif_path), fmt='cif')"
   ]
  },
  {
   "cell_type": "code",
   "execution_count": 2,
   "id": "e5658e65",
   "metadata": {},
   "outputs": [],
   "source": [
    "def switching_function(r, R_inner=3.0, R_outer=5.0):\n",
    "    \"\"\"\n",
    "    平滑切换函数：r < R_inner → 1.0 (xTB), r > R_outer → 0.0 (MLP)\n",
    "    中间区域平滑插值\n",
    "    \"\"\"\n",
    "    if r <= R_inner:\n",
    "        return 1.0\n",
    "    elif r >= R_outer:\n",
    "        return 0.0\n",
    "    else:\n",
    "        x = (r - R_inner) / (R_outer - R_inner)\n",
    "        # 使用cosine平滑 or cubic spline\n",
    "        return 0.5 * (1 + np.cos(np.pi * x))\n",
    "def detect_reactive_atoms(atoms, cutoff_dict=None):\n",
    "    if cutoff_dict is None:\n",
    "        cutoff_dict = {\n",
    "            ('Li', 'S'): 2.0,   # 正常 ~2.5Å，>3.0 可能断键\n",
    "            ('P', 'S'): 2.5,    # 正常 ~2.1Å\n",
    "            ('S', 'Cl'): 3.2,   # 若出现异常接近，可能反应\n",
    "        }\n",
    "    \n",
    "    reactive_mask = np.zeros(len(atoms), dtype=bool)\n",
    "    i_list, j_list, d_list = neighbor_list('ijd', atoms, cutoff=4.0)\n",
    "    \n",
    "    for i, j, d in zip(i_list, j_list, d_list):\n",
    "        sym_i, sym_j = atoms[i].symbol, atoms[j].symbol\n",
    "        key = tuple(sorted([sym_i, sym_j]))\n",
    "        if key in cutoff_dict and d > cutoff_dict[key] * 1.2:  # 超过20%阈值\n",
    "            reactive_mask[i] = reactive_mask[j] = True\n",
    "    return reactive_mask\n",
    "class SmoothHybridCalculator(Calculator):\n",
    "    implemented_properties = ['energy', 'forces', 'stress']\n",
    "    def __init__(self, mlp_calc, xtb_calc, \n",
    "                 R_inner=3.0, R_outer=5.0,\n",
    "                 reactive_detector=None,\n",
    "                 device='cpu'):\n",
    "        super().__init__()\n",
    "        self.mlp_calc = mlp_calc\n",
    "        self.xtb_calc = xtb_calc\n",
    "        self.R_inner = R_inner\n",
    "        self.R_outer = R_outer\n",
    "        self.reactive_detector = reactive_detector or detect_reactive_atoms\n",
    "        self.device = device\n",
    "    \n",
    "    def calculate(self, atoms=None, properties=['energy'], system_changes=all_changes):\n",
    "        super().calculate(atoms, properties, system_changes)\n",
    "\n",
    "        # Step 1: 用 MLP 计算全局能量和力\n",
    "        atoms.set_calculator(self.mlp_calc)\n",
    "        E_mlp = atoms.get_potential_energy()\n",
    "        F_mlp = atoms.get_forces()\n",
    "        if 'stress' in properties:\n",
    "            S_mlp = atoms.get_stress(voigt=False)\n",
    "\n",
    "        # Step 2: 检测反应原子\n",
    "        reactive_mask = self.reactive_detector(atoms)  # bool array (N,)\n",
    "        reactive_indices = np.where(reactive_mask)[0]\n",
    "\n",
    "        if len(reactive_indices) == 0:\n",
    "            self.results = {'energy': E_mlp, 'forces': F_mlp}\n",
    "            if 'stress' in properties:\n",
    "                self.results['stress'] = S_mlp\n",
    "            return\n",
    "\n",
    "        # Step 3: 构建 xTB 计算的局部超胞（反应原子 + 缓冲区）\n",
    "        # 获取反应原子邻域（缓冲区原子）\n",
    "        i_list, j_list, d_list = neighbor_list('ijd', atoms, cutoff=self.R_outer + 1.0)\n",
    "        buffer_mask = np.zeros(len(atoms), dtype=bool)\n",
    "        for i in reactive_indices:\n",
    "            neighbors = j_list[i_list == i]\n",
    "            buffer_mask[neighbors] = True\n",
    "        buffer_mask[reactive_indices] = True  # 包含反应原子自身\n",
    "        cluster_indices = np.where(buffer_mask)[0]\n",
    "\n",
    "        # 构建局部结构（带最小周期镜像）\n",
    "        cluster_atoms = atoms[cluster_indices]\n",
    "        # 注意：如需周期性，建议用 atoms.get_cell().create_extended_atoms(...) 或 ASE 的 cut()\n",
    "\n",
    "        # Step 4: 用 xTB 计算局部簇\n",
    "        cluster_atoms.set_calculator(self.xtb_calc)\n",
    "        try:\n",
    "            E_xtb_cluster = cluster_atoms.get_potential_energy()\n",
    "            F_xtb_cluster = cluster_atoms.get_forces()  # shape (M, 3)\n",
    "        except Exception as e:\n",
    "            print(\"xTB failed, falling back to MLP:\", e)\n",
    "            self.results = {'energy': E_mlp, 'forces': F_mlp}\n",
    "            return\n",
    "\n",
    "        # Step 5: 平滑混合力和能量\n",
    "        F_final = F_mlp.copy()\n",
    "        E_delta = 0.0\n",
    "\n",
    "        # 对每个缓冲区原子，计算其到最近反应原子的距离，应用切换权重\n",
    "        positions = atoms.get_positions()\n",
    "        for idx in cluster_indices:\n",
    "            # 找到该原子到所有反应原子的最小距离\n",
    "            dists = np.linalg.norm(positions[idx] - positions[reactive_indices], axis=1)\n",
    "            r_min = np.min(dists) if len(dists) > 0 else 0.0\n",
    "            w = switching_function(r_min, self.R_inner, self.R_outer)\n",
    "\n",
    "            if w > 1e-6:  # 避免数值误差\n",
    "                local_idx = np.where(cluster_indices == idx)[0][0]  # 在cluster中的索引\n",
    "                F_interp = w * F_xtb_cluster[local_idx] + (1 - w) * F_mlp[idx]\n",
    "                F_final[idx] = F_interp\n",
    "                # 能量校正：按权重分配局部能量差（简化处理）\n",
    "                E_delta += w * (F_xtb_cluster[local_idx] - F_mlp[idx]) @ (positions[idx] - positions.mean(axis=0)) * 0.1\n",
    "\n",
    "        # 能量：MLP全局 + 局部校正（简化模型，也可用簇能量差加权分配）\n",
    "        E_final = E_mlp + E_delta\n",
    "\n",
    "        self.results = {'energy': E_final, 'forces': F_final}\n",
    "        if 'stress' in properties:\n",
    "            # 应力暂不混合（或按体积比例混合），通常MLP应力足够\n",
    "            self.results['stress'] = S_mlp"
   ]
  },
  {
   "cell_type": "code",
   "execution_count": 3,
   "id": "30d37f22",
   "metadata": {},
   "outputs": [
    {
     "name": "stderr",
     "output_type": "stream",
     "text": [
      "/home/netszx/miniforge/envs/DFT/lib/python3.12/site-packages/mace/calculators/mace.py:197: UserWarning: Environment variable TORCH_FORCE_NO_WEIGHTS_ONLY_LOAD detected, since the`weights_only` argument was not explicitly passed to `torch.load`, forcing weights_only=False.\n",
      "  torch.load(f=model_path, map_location=device)\n",
      "/tmp/ipykernel_1065/2639822784.py:17: FutureWarning: Please use atoms.calc = calc\n",
      "  atoms.set_calculator(hybrid_calc)\n",
      "/tmp/ipykernel_1065/1090655050.py:49: FutureWarning: Please use atoms.calc = calc\n",
      "  atoms.set_calculator(self.mlp_calc)\n"
     ]
    },
    {
     "name": "stdout",
     "output_type": "stream",
     "text": [
      "Using head Default out of ['Default']\n",
      "xTB failed, falling back to MLP: must be real number, not str\n",
      "      Step     Time          Energy          fmax\n",
      "BFGS:    0 13:58:47      -53.574308        0.027425\n"
     ]
    },
    {
     "name": "stderr",
     "output_type": "stream",
     "text": [
      "/tmp/ipykernel_1065/1090655050.py:80: FutureWarning: Please use atoms.calc = calc\n",
      "  cluster_atoms.set_calculator(self.xtb_calc)\n"
     ]
    },
    {
     "data": {
      "text/plain": [
       "np.True_"
      ]
     },
     "execution_count": 3,
     "metadata": {},
     "output_type": "execute_result"
    }
   ],
   "source": [
    "mlp_calc = MACECalculator(\n",
    "    model_paths= \"/home/netszx/models/2024-01-07-mace-128-L2_epoch-199.model\",\n",
    "    device='cuda' if torch.cuda.is_available() else 'cpu',\n",
    "    default_dtype='float64'\n",
    ")\n",
    "xtb_calc = XTB(method='GFN2-xTB', accuracy='normal')\n",
    "hybrid_calc = SmoothHybridCalculator(\n",
    "    mlp_calc=mlp_calc,\n",
    "    xtb_calc=xtb_calc,\n",
    "    R_inner=3.0,    # 3Å 内完全用 xTB\n",
    "    R_outer=5.0,    # 5Å 外完全用 MLP\n",
    "    reactive_detector=detect_reactive_atoms\n",
    ")\n",
    "\n",
    "atoms = read(\"Li6PS5Cl.cif\")\n",
    "\n",
    "atoms.set_calculator(hybrid_calc)\n",
    "\n",
    "from ase.optimize import BFGS\n",
    "dyn = BFGS(atoms)\n",
    "dyn.run(fmax=0.05)"
   ]
  }
 ],
 "metadata": {
  "kernelspec": {
   "display_name": "DFT",
   "language": "python",
   "name": "python3"
  },
  "language_info": {
   "codemirror_mode": {
    "name": "ipython",
    "version": 3
   },
   "file_extension": ".py",
   "mimetype": "text/x-python",
   "name": "python",
   "nbconvert_exporter": "python",
   "pygments_lexer": "ipython3",
   "version": "3.12.11"
  }
 },
 "nbformat": 4,
 "nbformat_minor": 5
}
