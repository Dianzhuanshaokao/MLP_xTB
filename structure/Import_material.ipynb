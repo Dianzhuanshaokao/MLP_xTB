{
 "cells": [
  {
   "cell_type": "code",
   "execution_count": 2,
   "id": "a15c8a83",
   "metadata": {},
   "outputs": [],
   "source": [
    "from mp_api.client import MPRester"
   ]
  },
  {
   "cell_type": "code",
   "execution_count": null,
   "id": "469e1968",
   "metadata": {},
   "outputs": [
    {
     "data": {
      "application/vnd.jupyter.widget-view+json": {
       "model_id": "c2f5e6bca5c04c72a7ae1aaa2ea6b24e",
       "version_major": 2,
       "version_minor": 0
      },
      "text/plain": [
       "Retrieving MaterialsDoc documents:   0%|          | 0/1 [00:00<?, ?it/s]"
      ]
     },
     "metadata": {},
     "output_type": "display_data"
    }
   ],
   "source": [
    "API = \"**\"\n",
    "with MPRester(api_key=API) as mpr:\n",
    "    data = mpr.materials.search(material_ids=[\"mp-51\"])"
   ]
  },
  {
   "cell_type": "code",
   "execution_count": 11,
   "id": "9ae4cae1",
   "metadata": {},
   "outputs": [],
   "source": [
    "# change data to cif\n",
    "for doc in data:\n",
    "    structure = doc.structure\n",
    "    cif_path = \"structure/Li.cif\"\n",
    "    structure.to(filename=str(cif_path), fmt='cif')"
   ]
  }
 ],
 "metadata": {
  "kernelspec": {
   "display_name": "DFT",
   "language": "python",
   "name": "python3"
  },
  "language_info": {
   "codemirror_mode": {
    "name": "ipython",
    "version": 3
   },
   "file_extension": ".py",
   "mimetype": "text/x-python",
   "name": "python",
   "nbconvert_exporter": "python",
   "pygments_lexer": "ipython3",
   "version": "3.12.11"
  }
 },
 "nbformat": 4,
 "nbformat_minor": 5
}
