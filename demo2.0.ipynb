{
 "cells": [
  {
   "cell_type": "code",
   "execution_count": 1,
   "id": "fe6af04f",
   "metadata": {},
   "outputs": [
    {
     "name": "stderr",
     "output_type": "stream",
     "text": [
      "/home/netszx/miniforge/envs/DFT/lib/python3.12/site-packages/e3nn/o3/_wigner.py:10: UserWarning: Environment variable TORCH_FORCE_NO_WEIGHTS_ONLY_LOAD detected, since the`weights_only` argument was not explicitly passed to `torch.load`, forcing weights_only=False.\n",
      "  _Jd, _W3j_flat, _W3j_indices = torch.load(os.path.join(os.path.dirname(__file__), 'constants.pt'))\n"
     ]
    },
    {
     "name": "stdout",
     "output_type": "stream",
     "text": [
      "cuequivariance or cuequivariance_torch is not available. Cuequivariance acceleration will be disabled.\n"
     ]
    }
   ],
   "source": [
    "import torch\n",
    "from xtb.ase.calculator import XTB\n",
    "import numpy as np\n",
    "import os\n",
    "from ase.io import read, write\n",
    "from ase.md.langevin import Langevin\n",
    "from ase import units\n",
    "from mace.calculators import MACECalculator\n",
    "import pickle\n",
    "from src.reaction_detector import analyze_reaction\n",
    "from src.hybrid_calculator import HybridCalculator"
   ]
  },
  {
   "cell_type": "code",
   "execution_count": 2,
   "id": "7a2ca1f5",
   "metadata": {},
   "outputs": [
    {
     "name": "stdout",
     "output_type": "stream",
     "text": [
      "Using head Default out of ['Default']\n"
     ]
    }
   ],
   "source": [
    "MACE_MODEL = '/home/netszx/models/2024-01-07-mace-128-L2_epoch-199.model'\n",
    "mace_calc = MACECalculator(model_paths = MACE_MODEL, device=\"cuda\" if torch.cuda.is_available() else \"cpu\", default_dtype=\"float64\")\n",
    "xtb_calc = XTB(method=\"GFN1-xTB\", accuracy=2.0)"
   ]
  },
  {
   "cell_type": "code",
   "execution_count": 3,
   "id": "68659088",
   "metadata": {},
   "outputs": [],
   "source": [
    "atoms = read('structure/Constrainted_Layer.xyz')"
   ]
  },
  {
   "cell_type": "code",
   "execution_count": null,
   "id": "c1e143b9",
   "metadata": {},
   "outputs": [],
   "source": [
    "atoms_1 = atoms.copy()\n",
    "atoms_1.calc = xtb_calc\n",
    "E_xtb = atoms_1.get_potential_energy()\n",
    "print(f\"Reference XTB energy: {E_xtb} eV\")"
   ]
  },
  {
   "cell_type": "code",
   "execution_count": null,
   "id": "f10373b0",
   "metadata": {},
   "outputs": [
    {
     "name": "stdout",
     "output_type": "stream",
     "text": [
      "Reference XTB energy: -825.3338292632635 eV\n"
     ]
    }
   ],
   "source": [
    "atoms_2 = atoms.copy()\n",
    "atoms_2.calc = mace_calc\n",
    "E_mlp = atoms_2.get_potential_energy()\n",
    "print(f\"Reference MLP energy: {E_mlp} eV\")"
   ]
  },
  {
   "cell_type": "code",
   "execution_count": 7,
   "id": "3bc2db44",
   "metadata": {},
   "outputs": [],
   "source": [
    "os.makedirs('outputs', exist_ok=True)\n",
    "\n",
    "ACTIVE_LEARNING_FILE = \"active_learning_pool.pkl\"\n",
    "MAX_STEPS = 10000      # Maximum MD steps\n",
    "CHECK_INTERVAL = 100   # Check for reactions every N steps\n",
    "ERROR_THRESHOLD_ENERGY = 0.1   # eV\n",
    "ERROR_THRESHOLD_FORCE = 0.1    # eV/Å\n",
    "FINETUNE_EVERY_N_SAMPLES = 30  # Number of samples to trigger fine-tuning"
   ]
  },
  {
   "cell_type": "code",
   "execution_count": 9,
   "id": "ae921d12",
   "metadata": {},
   "outputs": [
    {
     "name": "stdout",
     "output_type": "stream",
     "text": [
      "Initialized empty active learning pool.\n",
      "Setting energy offset for hybrid calculator...\n",
      "Reference MLP energy: -825.638241 eV\n",
      "Reference xTB energy: -14272.742818 eV\n",
      "Energy offset set: -13447.104577 eV\n",
      "Starting adaptive ML-MD...\n",
      "  Li-S bonds: 48, P-S broken: True, Cl moved: True\n",
      "  Reactive atoms: 138\n"
     ]
    },
    {
     "name": "stderr",
     "output_type": "stream",
     "text": [
      "/home/netszx/MyGithubs/MLP_xTB/src/hybrid_calculator.py:142: RuntimeWarning: invalid value encountered in multiply\n",
      "  F_out[i] = w * F_xtb[i] + (1 - w) * F_mlp[i]\n"
     ]
    },
    {
     "name": "stdout",
     "output_type": "stream",
     "text": [
      "\n",
      " Reaction detected at step 0\n",
      "dE = 0.0000 eV, dF = nan eV/Å\n"
     ]
    },
    {
     "ename": "KeyboardInterrupt",
     "evalue": "",
     "output_type": "error",
     "traceback": [
      "\u001b[31m---------------------------------------------------------------------------\u001b[39m",
      "\u001b[31mKeyboardInterrupt\u001b[39m                         Traceback (most recent call last)",
      "\u001b[36mCell\u001b[39m\u001b[36m \u001b[39m\u001b[32mIn[9]\u001b[39m\u001b[32m, line 26\u001b[39m\n\u001b[32m     24\u001b[39m atoms.calc = hybrid_calc\n\u001b[32m     25\u001b[39m \u001b[38;5;28;01mfor\u001b[39;00m step \u001b[38;5;129;01min\u001b[39;00m \u001b[38;5;28mrange\u001b[39m(MAX_STEPS):\n\u001b[32m---> \u001b[39m\u001b[32m26\u001b[39m     \u001b[43mdyn\u001b[49m\u001b[43m.\u001b[49m\u001b[43mrun\u001b[49m\u001b[43m(\u001b[49m\u001b[43msteps\u001b[49m\u001b[43m=\u001b[49m\u001b[32;43m1\u001b[39;49m\u001b[43m)\u001b[49m\n\u001b[32m     28\u001b[39m     \u001b[38;5;28;01mif\u001b[39;00m step % CHECK_INTERVAL == \u001b[32m0\u001b[39m:\n\u001b[32m     29\u001b[39m         is_reactive, reactive_indices = analyze_reaction(atoms, verbose=\u001b[38;5;28;01mTrue\u001b[39;00m)\n",
      "\u001b[36mFile \u001b[39m\u001b[32m~/miniforge/envs/DFT/lib/python3.12/site-packages/ase/md/md.py:171\u001b[39m, in \u001b[36mMolecularDynamics.run\u001b[39m\u001b[34m(self, steps)\u001b[39m\n\u001b[32m    158\u001b[39m \u001b[38;5;28;01mdef\u001b[39;00m\u001b[38;5;250m \u001b[39m\u001b[34mrun\u001b[39m(\u001b[38;5;28mself\u001b[39m, steps=\u001b[32m50\u001b[39m):\n\u001b[32m    159\u001b[39m \u001b[38;5;250m    \u001b[39m\u001b[33;03m\"\"\"Run molecular dynamics algorithm.\u001b[39;00m\n\u001b[32m    160\u001b[39m \n\u001b[32m    161\u001b[39m \u001b[33;03m    Parameters\u001b[39;00m\n\u001b[32m   (...)\u001b[39m\u001b[32m    169\u001b[39m \u001b[33;03m        True if the maximum number of steps are reached.\u001b[39;00m\n\u001b[32m    170\u001b[39m \u001b[33;03m    \"\"\"\u001b[39;00m\n\u001b[32m--> \u001b[39m\u001b[32m171\u001b[39m     \u001b[38;5;28;01mreturn\u001b[39;00m \u001b[43mDynamics\u001b[49m\u001b[43m.\u001b[49m\u001b[43mrun\u001b[49m\u001b[43m(\u001b[49m\u001b[38;5;28;43mself\u001b[39;49m\u001b[43m,\u001b[49m\u001b[43m \u001b[49m\u001b[43msteps\u001b[49m\u001b[43m=\u001b[49m\u001b[43msteps\u001b[49m\u001b[43m)\u001b[49m\n",
      "\u001b[36mFile \u001b[39m\u001b[32m~/miniforge/envs/DFT/lib/python3.12/site-packages/ase/optimize/optimize.py:286\u001b[39m, in \u001b[36mDynamics.run\u001b[39m\u001b[34m(self, steps)\u001b[39m\n\u001b[32m    268\u001b[39m \u001b[38;5;28;01mdef\u001b[39;00m\u001b[38;5;250m \u001b[39m\u001b[34mrun\u001b[39m(\u001b[38;5;28mself\u001b[39m, steps=DEFAULT_MAX_STEPS):\n\u001b[32m    269\u001b[39m \u001b[38;5;250m    \u001b[39m\u001b[33;03m\"\"\"Run dynamics algorithm.\u001b[39;00m\n\u001b[32m    270\u001b[39m \n\u001b[32m    271\u001b[39m \u001b[33;03m    This method will return when the forces on all individual\u001b[39;00m\n\u001b[32m   (...)\u001b[39m\u001b[32m    283\u001b[39m \u001b[33;03m        True if the forces on atoms are converged.\u001b[39;00m\n\u001b[32m    284\u001b[39m \u001b[33;03m    \"\"\"\u001b[39;00m\n\u001b[32m--> \u001b[39m\u001b[32m286\u001b[39m \u001b[43m    \u001b[49m\u001b[38;5;28;43;01mfor\u001b[39;49;00m\u001b[43m \u001b[49m\u001b[43mconverged\u001b[49m\u001b[43m \u001b[49m\u001b[38;5;129;43;01min\u001b[39;49;00m\u001b[43m \u001b[49m\u001b[43mDynamics\u001b[49m\u001b[43m.\u001b[49m\u001b[43mirun\u001b[49m\u001b[43m(\u001b[49m\u001b[38;5;28;43mself\u001b[39;49m\u001b[43m,\u001b[49m\u001b[43m \u001b[49m\u001b[43msteps\u001b[49m\u001b[43m=\u001b[49m\u001b[43msteps\u001b[49m\u001b[43m)\u001b[49m\u001b[43m:\u001b[49m\n\u001b[32m    287\u001b[39m \u001b[43m        \u001b[49m\u001b[38;5;28;43;01mpass\u001b[39;49;00m\n\u001b[32m    288\u001b[39m     \u001b[38;5;28;01mreturn\u001b[39;00m converged\n",
      "\u001b[36mFile \u001b[39m\u001b[32m~/miniforge/envs/DFT/lib/python3.12/site-packages/ase/optimize/optimize.py:257\u001b[39m, in \u001b[36mDynamics.irun\u001b[39m\u001b[34m(self, steps)\u001b[39m\n\u001b[32m    254\u001b[39m \u001b[38;5;66;03m# run the algorithm until converged or max_steps reached\u001b[39;00m\n\u001b[32m    255\u001b[39m \u001b[38;5;28;01mwhile\u001b[39;00m \u001b[38;5;129;01mnot\u001b[39;00m is_converged \u001b[38;5;129;01mand\u001b[39;00m \u001b[38;5;28mself\u001b[39m.nsteps < \u001b[38;5;28mself\u001b[39m.max_steps:\n\u001b[32m    256\u001b[39m     \u001b[38;5;66;03m# compute the next step\u001b[39;00m\n\u001b[32m--> \u001b[39m\u001b[32m257\u001b[39m     \u001b[38;5;28;43mself\u001b[39;49m\u001b[43m.\u001b[49m\u001b[43mstep\u001b[49m\u001b[43m(\u001b[49m\u001b[43m)\u001b[49m\n\u001b[32m    258\u001b[39m     \u001b[38;5;28mself\u001b[39m.nsteps += \u001b[32m1\u001b[39m\n\u001b[32m    260\u001b[39m     \u001b[38;5;66;03m# log the step\u001b[39;00m\n",
      "\u001b[36mFile \u001b[39m\u001b[32m~/miniforge/envs/DFT/lib/python3.12/site-packages/ase/md/langevin.py:190\u001b[39m, in \u001b[36mLangevin.step\u001b[39m\u001b[34m(self, forces)\u001b[39m\n\u001b[32m    188\u001b[39m \u001b[38;5;66;03m# recalc velocities after RATTLE constraints are applied\u001b[39;00m\n\u001b[32m    189\u001b[39m \u001b[38;5;28mself\u001b[39m.v = (\u001b[38;5;28mself\u001b[39m.atoms.get_positions() - x - \u001b[38;5;28mself\u001b[39m.rnd_pos) / \u001b[38;5;28mself\u001b[39m.dt\n\u001b[32m--> \u001b[39m\u001b[32m190\u001b[39m forces = \u001b[43matoms\u001b[49m\u001b[43m.\u001b[49m\u001b[43mget_forces\u001b[49m\u001b[43m(\u001b[49m\u001b[43mmd\u001b[49m\u001b[43m=\u001b[49m\u001b[38;5;28;43;01mTrue\u001b[39;49;00m\u001b[43m)\u001b[49m\n\u001b[32m    192\u001b[39m \u001b[38;5;66;03m# Update the velocities\u001b[39;00m\n\u001b[32m    193\u001b[39m \u001b[38;5;28mself\u001b[39m.v += (\n\u001b[32m    194\u001b[39m     \u001b[38;5;28mself\u001b[39m.c1 * forces / \u001b[38;5;28mself\u001b[39m.masses - \u001b[38;5;28mself\u001b[39m.c2 * \u001b[38;5;28mself\u001b[39m.v + \u001b[38;5;28mself\u001b[39m.rnd_vel\n\u001b[32m    195\u001b[39m )\n",
      "\u001b[36mFile \u001b[39m\u001b[32m~/miniforge/envs/DFT/lib/python3.12/site-packages/ase/atoms.py:829\u001b[39m, in \u001b[36mAtoms.get_forces\u001b[39m\u001b[34m(self, apply_constraint, md)\u001b[39m\n\u001b[32m    827\u001b[39m \u001b[38;5;28;01mif\u001b[39;00m \u001b[38;5;28mself\u001b[39m._calc \u001b[38;5;129;01mis\u001b[39;00m \u001b[38;5;28;01mNone\u001b[39;00m:\n\u001b[32m    828\u001b[39m     \u001b[38;5;28;01mraise\u001b[39;00m \u001b[38;5;167;01mRuntimeError\u001b[39;00m(\u001b[33m'\u001b[39m\u001b[33mAtoms object has no calculator.\u001b[39m\u001b[33m'\u001b[39m)\n\u001b[32m--> \u001b[39m\u001b[32m829\u001b[39m forces = \u001b[38;5;28;43mself\u001b[39;49m\u001b[43m.\u001b[49m\u001b[43m_calc\u001b[49m\u001b[43m.\u001b[49m\u001b[43mget_forces\u001b[49m\u001b[43m(\u001b[49m\u001b[38;5;28;43mself\u001b[39;49m\u001b[43m)\u001b[49m\n\u001b[32m    831\u001b[39m \u001b[38;5;28;01mif\u001b[39;00m apply_constraint:\n\u001b[32m    832\u001b[39m     \u001b[38;5;66;03m# We need a special md flag here because for MD we want\u001b[39;00m\n\u001b[32m    833\u001b[39m     \u001b[38;5;66;03m# to skip real constraints but include special \"constraints\"\u001b[39;00m\n\u001b[32m    834\u001b[39m     \u001b[38;5;66;03m# Like Hookean.\u001b[39;00m\n\u001b[32m    835\u001b[39m     \u001b[38;5;28;01mfor\u001b[39;00m constraint \u001b[38;5;129;01min\u001b[39;00m \u001b[38;5;28mself\u001b[39m.constraints:\n",
      "\u001b[36mFile \u001b[39m\u001b[32m~/miniforge/envs/DFT/lib/python3.12/site-packages/ase/calculators/abc.py:32\u001b[39m, in \u001b[36mGetPropertiesMixin.get_forces\u001b[39m\u001b[34m(self, atoms)\u001b[39m\n\u001b[32m     31\u001b[39m \u001b[38;5;28;01mdef\u001b[39;00m\u001b[38;5;250m \u001b[39m\u001b[34mget_forces\u001b[39m(\u001b[38;5;28mself\u001b[39m, atoms=\u001b[38;5;28;01mNone\u001b[39;00m):\n\u001b[32m---> \u001b[39m\u001b[32m32\u001b[39m     \u001b[38;5;28;01mreturn\u001b[39;00m \u001b[38;5;28;43mself\u001b[39;49m\u001b[43m.\u001b[49m\u001b[43mget_property\u001b[49m\u001b[43m(\u001b[49m\u001b[33;43m'\u001b[39;49m\u001b[33;43mforces\u001b[39;49m\u001b[33;43m'\u001b[39;49m\u001b[43m,\u001b[49m\u001b[43m \u001b[49m\u001b[43matoms\u001b[49m\u001b[43m)\u001b[49m\n",
      "\u001b[36mFile \u001b[39m\u001b[32m~/miniforge/envs/DFT/lib/python3.12/site-packages/ase/calculators/calculator.py:515\u001b[39m, in \u001b[36mBaseCalculator.get_property\u001b[39m\u001b[34m(self, name, atoms, allow_calculation)\u001b[39m\n\u001b[32m    512\u001b[39m     \u001b[38;5;28;01mif\u001b[39;00m \u001b[38;5;28mself\u001b[39m.use_cache:\n\u001b[32m    513\u001b[39m         \u001b[38;5;28mself\u001b[39m.atoms = atoms.copy()\n\u001b[32m--> \u001b[39m\u001b[32m515\u001b[39m     \u001b[38;5;28;43mself\u001b[39;49m\u001b[43m.\u001b[49m\u001b[43mcalculate\u001b[49m\u001b[43m(\u001b[49m\u001b[43matoms\u001b[49m\u001b[43m,\u001b[49m\u001b[43m \u001b[49m\u001b[43m[\u001b[49m\u001b[43mname\u001b[49m\u001b[43m]\u001b[49m\u001b[43m,\u001b[49m\u001b[43m \u001b[49m\u001b[43msystem_changes\u001b[49m\u001b[43m)\u001b[49m\n\u001b[32m    517\u001b[39m \u001b[38;5;28;01mif\u001b[39;00m name \u001b[38;5;129;01mnot\u001b[39;00m \u001b[38;5;129;01min\u001b[39;00m \u001b[38;5;28mself\u001b[39m.results:\n\u001b[32m    518\u001b[39m     \u001b[38;5;66;03m# For some reason the calculator was not able to do what we want,\u001b[39;00m\n\u001b[32m    519\u001b[39m     \u001b[38;5;66;03m# and that is OK.\u001b[39;00m\n\u001b[32m    520\u001b[39m     \u001b[38;5;28;01mraise\u001b[39;00m PropertyNotImplementedError(\n\u001b[32m    521\u001b[39m         \u001b[33m'\u001b[39m\u001b[38;5;132;01m{}\u001b[39;00m\u001b[33m not present in this \u001b[39m\u001b[33m'\u001b[39m \u001b[33m'\u001b[39m\u001b[33mcalculation\u001b[39m\u001b[33m'\u001b[39m.format(name)\n\u001b[32m    522\u001b[39m     )\n",
      "\u001b[36mFile \u001b[39m\u001b[32m~/miniforge/envs/DFT/lib/python3.12/site-packages/mace/calculators/mace.py:412\u001b[39m, in \u001b[36mMACECalculator.calculate\u001b[39m\u001b[34m(self, atoms, properties, system_changes)\u001b[39m\n\u001b[32m    410\u001b[39m \u001b[38;5;28;01mfor\u001b[39;00m i, model \u001b[38;5;129;01min\u001b[39;00m \u001b[38;5;28menumerate\u001b[39m(\u001b[38;5;28mself\u001b[39m.models):\n\u001b[32m    411\u001b[39m     batch = \u001b[38;5;28mself\u001b[39m._clone_batch(batch_base)\n\u001b[32m--> \u001b[39m\u001b[32m412\u001b[39m     out = \u001b[43mmodel\u001b[49m\u001b[43m(\u001b[49m\n\u001b[32m    413\u001b[39m \u001b[43m        \u001b[49m\u001b[43mbatch\u001b[49m\u001b[43m.\u001b[49m\u001b[43mto_dict\u001b[49m\u001b[43m(\u001b[49m\u001b[43m)\u001b[49m\u001b[43m,\u001b[49m\n\u001b[32m    414\u001b[39m \u001b[43m        \u001b[49m\u001b[43mcompute_stress\u001b[49m\u001b[43m=\u001b[49m\u001b[43mcompute_stress\u001b[49m\u001b[43m,\u001b[49m\n\u001b[32m    415\u001b[39m \u001b[43m        \u001b[49m\u001b[43mtraining\u001b[49m\u001b[43m=\u001b[49m\u001b[38;5;28;43mself\u001b[39;49m\u001b[43m.\u001b[49m\u001b[43muse_compile\u001b[49m\u001b[43m,\u001b[49m\n\u001b[32m    416\u001b[39m \u001b[43m        \u001b[49m\u001b[43mcompute_edge_forces\u001b[49m\u001b[43m=\u001b[49m\u001b[38;5;28;43mself\u001b[39;49m\u001b[43m.\u001b[49m\u001b[43mcompute_atomic_stresses\u001b[49m\u001b[43m,\u001b[49m\n\u001b[32m    417\u001b[39m \u001b[43m        \u001b[49m\u001b[43mcompute_atomic_stresses\u001b[49m\u001b[43m=\u001b[49m\u001b[38;5;28;43mself\u001b[39;49m\u001b[43m.\u001b[49m\u001b[43mcompute_atomic_stresses\u001b[49m\u001b[43m,\u001b[49m\n\u001b[32m    418\u001b[39m \u001b[43m    \u001b[49m\u001b[43m)\u001b[49m\n\u001b[32m    419\u001b[39m     \u001b[38;5;28;01mif\u001b[39;00m \u001b[38;5;28mself\u001b[39m.model_type \u001b[38;5;129;01min\u001b[39;00m [\u001b[33m\"\u001b[39m\u001b[33mMACE\u001b[39m\u001b[33m\"\u001b[39m, \u001b[33m\"\u001b[39m\u001b[33mEnergyDipoleMACE\u001b[39m\u001b[33m\"\u001b[39m]:\n\u001b[32m    420\u001b[39m         ret_tensors[\u001b[33m\"\u001b[39m\u001b[33menergies\u001b[39m\u001b[33m\"\u001b[39m][i] = out[\u001b[33m\"\u001b[39m\u001b[33menergy\u001b[39m\u001b[33m\"\u001b[39m].detach()\n",
      "\u001b[36mFile \u001b[39m\u001b[32m~/miniforge/envs/DFT/lib/python3.12/site-packages/torch/nn/modules/module.py:1773\u001b[39m, in \u001b[36mModule._wrapped_call_impl\u001b[39m\u001b[34m(self, *args, **kwargs)\u001b[39m\n\u001b[32m   1771\u001b[39m     \u001b[38;5;28;01mreturn\u001b[39;00m \u001b[38;5;28mself\u001b[39m._compiled_call_impl(*args, **kwargs)  \u001b[38;5;66;03m# type: ignore[misc]\u001b[39;00m\n\u001b[32m   1772\u001b[39m \u001b[38;5;28;01melse\u001b[39;00m:\n\u001b[32m-> \u001b[39m\u001b[32m1773\u001b[39m     \u001b[38;5;28;01mreturn\u001b[39;00m \u001b[38;5;28;43mself\u001b[39;49m\u001b[43m.\u001b[49m\u001b[43m_call_impl\u001b[49m\u001b[43m(\u001b[49m\u001b[43m*\u001b[49m\u001b[43margs\u001b[49m\u001b[43m,\u001b[49m\u001b[43m \u001b[49m\u001b[43m*\u001b[49m\u001b[43m*\u001b[49m\u001b[43mkwargs\u001b[49m\u001b[43m)\u001b[49m\n",
      "\u001b[36mFile \u001b[39m\u001b[32m~/miniforge/envs/DFT/lib/python3.12/site-packages/torch/nn/modules/module.py:1784\u001b[39m, in \u001b[36mModule._call_impl\u001b[39m\u001b[34m(self, *args, **kwargs)\u001b[39m\n\u001b[32m   1779\u001b[39m \u001b[38;5;66;03m# If we don't have any hooks, we want to skip the rest of the logic in\u001b[39;00m\n\u001b[32m   1780\u001b[39m \u001b[38;5;66;03m# this function, and just call forward.\u001b[39;00m\n\u001b[32m   1781\u001b[39m \u001b[38;5;28;01mif\u001b[39;00m \u001b[38;5;129;01mnot\u001b[39;00m (\u001b[38;5;28mself\u001b[39m._backward_hooks \u001b[38;5;129;01mor\u001b[39;00m \u001b[38;5;28mself\u001b[39m._backward_pre_hooks \u001b[38;5;129;01mor\u001b[39;00m \u001b[38;5;28mself\u001b[39m._forward_hooks \u001b[38;5;129;01mor\u001b[39;00m \u001b[38;5;28mself\u001b[39m._forward_pre_hooks\n\u001b[32m   1782\u001b[39m         \u001b[38;5;129;01mor\u001b[39;00m _global_backward_pre_hooks \u001b[38;5;129;01mor\u001b[39;00m _global_backward_hooks\n\u001b[32m   1783\u001b[39m         \u001b[38;5;129;01mor\u001b[39;00m _global_forward_hooks \u001b[38;5;129;01mor\u001b[39;00m _global_forward_pre_hooks):\n\u001b[32m-> \u001b[39m\u001b[32m1784\u001b[39m     \u001b[38;5;28;01mreturn\u001b[39;00m \u001b[43mforward_call\u001b[49m\u001b[43m(\u001b[49m\u001b[43m*\u001b[49m\u001b[43margs\u001b[49m\u001b[43m,\u001b[49m\u001b[43m \u001b[49m\u001b[43m*\u001b[49m\u001b[43m*\u001b[49m\u001b[43mkwargs\u001b[49m\u001b[43m)\u001b[49m\n\u001b[32m   1786\u001b[39m result = \u001b[38;5;28;01mNone\u001b[39;00m\n\u001b[32m   1787\u001b[39m called_always_called_hooks = \u001b[38;5;28mset\u001b[39m()\n",
      "\u001b[36mFile \u001b[39m\u001b[32m~/miniforge/envs/DFT/lib/python3.12/site-packages/mace/modules/models.py:571\u001b[39m, in \u001b[36mScaleShiftMACE.forward\u001b[39m\u001b[34m(self, data, training, compute_force, compute_virials, compute_stress, compute_displacement, compute_hessian, compute_edge_forces, compute_atomic_stresses, lammps_mliap)\u001b[39m\n\u001b[32m    568\u001b[39m total_energy = e0 + inter_e\n\u001b[32m    569\u001b[39m node_energy = node_e0.clone().double() + node_inter_es.clone().double()\n\u001b[32m--> \u001b[39m\u001b[32m571\u001b[39m forces, virials, stress, hessian, edge_forces = \u001b[43mget_outputs\u001b[49m\u001b[43m(\u001b[49m\n\u001b[32m    572\u001b[39m \u001b[43m    \u001b[49m\u001b[43menergy\u001b[49m\u001b[43m=\u001b[49m\u001b[43minter_e\u001b[49m\u001b[43m,\u001b[49m\n\u001b[32m    573\u001b[39m \u001b[43m    \u001b[49m\u001b[43mpositions\u001b[49m\u001b[43m=\u001b[49m\u001b[43mpositions\u001b[49m\u001b[43m,\u001b[49m\n\u001b[32m    574\u001b[39m \u001b[43m    \u001b[49m\u001b[43mdisplacement\u001b[49m\u001b[43m=\u001b[49m\u001b[43mdisplacement\u001b[49m\u001b[43m,\u001b[49m\n\u001b[32m    575\u001b[39m \u001b[43m    \u001b[49m\u001b[43mvectors\u001b[49m\u001b[43m=\u001b[49m\u001b[43mvectors\u001b[49m\u001b[43m,\u001b[49m\n\u001b[32m    576\u001b[39m \u001b[43m    \u001b[49m\u001b[43mcell\u001b[49m\u001b[43m=\u001b[49m\u001b[43mcell\u001b[49m\u001b[43m,\u001b[49m\n\u001b[32m    577\u001b[39m \u001b[43m    \u001b[49m\u001b[43mtraining\u001b[49m\u001b[43m=\u001b[49m\u001b[43mtraining\u001b[49m\u001b[43m,\u001b[49m\n\u001b[32m    578\u001b[39m \u001b[43m    \u001b[49m\u001b[43mcompute_force\u001b[49m\u001b[43m=\u001b[49m\u001b[43mcompute_force\u001b[49m\u001b[43m,\u001b[49m\n\u001b[32m    579\u001b[39m \u001b[43m    \u001b[49m\u001b[43mcompute_virials\u001b[49m\u001b[43m=\u001b[49m\u001b[43mcompute_virials\u001b[49m\u001b[43m,\u001b[49m\n\u001b[32m    580\u001b[39m \u001b[43m    \u001b[49m\u001b[43mcompute_stress\u001b[49m\u001b[43m=\u001b[49m\u001b[43mcompute_stress\u001b[49m\u001b[43m,\u001b[49m\n\u001b[32m    581\u001b[39m \u001b[43m    \u001b[49m\u001b[43mcompute_hessian\u001b[49m\u001b[43m=\u001b[49m\u001b[43mcompute_hessian\u001b[49m\u001b[43m,\u001b[49m\n\u001b[32m    582\u001b[39m \u001b[43m    \u001b[49m\u001b[43mcompute_edge_forces\u001b[49m\u001b[43m=\u001b[49m\u001b[43mcompute_edge_forces\u001b[49m\u001b[43m \u001b[49m\u001b[38;5;129;43;01mor\u001b[39;49;00m\u001b[43m \u001b[49m\u001b[43mcompute_atomic_stresses\u001b[49m\u001b[43m,\u001b[49m\n\u001b[32m    583\u001b[39m \u001b[43m\u001b[49m\u001b[43m)\u001b[49m\n\u001b[32m    585\u001b[39m atomic_virials: Optional[torch.Tensor] = \u001b[38;5;28;01mNone\u001b[39;00m\n\u001b[32m    586\u001b[39m atomic_stresses: Optional[torch.Tensor] = \u001b[38;5;28;01mNone\u001b[39;00m\n",
      "\u001b[36mFile \u001b[39m\u001b[32m~/miniforge/envs/DFT/lib/python3.12/site-packages/mace/modules/utils.py:185\u001b[39m, in \u001b[36mget_outputs\u001b[39m\u001b[34m(energy, positions, cell, displacement, vectors, training, compute_force, compute_virials, compute_stress, compute_hessian, compute_edge_forces)\u001b[39m\n\u001b[32m    165\u001b[39m \u001b[38;5;28;01mdef\u001b[39;00m\u001b[38;5;250m \u001b[39m\u001b[34mget_outputs\u001b[39m(\n\u001b[32m    166\u001b[39m     energy: torch.Tensor,\n\u001b[32m    167\u001b[39m     positions: torch.Tensor,\n\u001b[32m   (...)\u001b[39m\u001b[32m    182\u001b[39m     Optional[torch.Tensor],\n\u001b[32m    183\u001b[39m ]:\n\u001b[32m    184\u001b[39m     \u001b[38;5;28;01mif\u001b[39;00m (compute_virials \u001b[38;5;129;01mor\u001b[39;00m compute_stress) \u001b[38;5;129;01mand\u001b[39;00m displacement \u001b[38;5;129;01mis\u001b[39;00m \u001b[38;5;129;01mnot\u001b[39;00m \u001b[38;5;28;01mNone\u001b[39;00m:\n\u001b[32m--> \u001b[39m\u001b[32m185\u001b[39m         forces, virials, stress = \u001b[43mcompute_forces_virials\u001b[49m\u001b[43m(\u001b[49m\n\u001b[32m    186\u001b[39m \u001b[43m            \u001b[49m\u001b[43menergy\u001b[49m\u001b[43m=\u001b[49m\u001b[43menergy\u001b[49m\u001b[43m,\u001b[49m\n\u001b[32m    187\u001b[39m \u001b[43m            \u001b[49m\u001b[43mpositions\u001b[49m\u001b[43m=\u001b[49m\u001b[43mpositions\u001b[49m\u001b[43m,\u001b[49m\n\u001b[32m    188\u001b[39m \u001b[43m            \u001b[49m\u001b[43mdisplacement\u001b[49m\u001b[43m=\u001b[49m\u001b[43mdisplacement\u001b[49m\u001b[43m,\u001b[49m\n\u001b[32m    189\u001b[39m \u001b[43m            \u001b[49m\u001b[43mcell\u001b[49m\u001b[43m=\u001b[49m\u001b[43mcell\u001b[49m\u001b[43m,\u001b[49m\n\u001b[32m    190\u001b[39m \u001b[43m            \u001b[49m\u001b[43mcompute_stress\u001b[49m\u001b[43m=\u001b[49m\u001b[43mcompute_stress\u001b[49m\u001b[43m,\u001b[49m\n\u001b[32m    191\u001b[39m \u001b[43m            \u001b[49m\u001b[43mtraining\u001b[49m\u001b[43m=\u001b[49m\u001b[43m(\u001b[49m\u001b[43mtraining\u001b[49m\u001b[43m \u001b[49m\u001b[38;5;129;43;01mor\u001b[39;49;00m\u001b[43m \u001b[49m\u001b[43mcompute_hessian\u001b[49m\u001b[43m \u001b[49m\u001b[38;5;129;43;01mor\u001b[39;49;00m\u001b[43m \u001b[49m\u001b[43mcompute_edge_forces\u001b[49m\u001b[43m)\u001b[49m\u001b[43m,\u001b[49m\n\u001b[32m    192\u001b[39m \u001b[43m        \u001b[49m\u001b[43m)\u001b[49m\n\u001b[32m    193\u001b[39m     \u001b[38;5;28;01melif\u001b[39;00m compute_force:\n\u001b[32m    194\u001b[39m         forces, virials, stress = (\n\u001b[32m    195\u001b[39m             compute_forces(\n\u001b[32m    196\u001b[39m                 energy=energy,\n\u001b[32m   (...)\u001b[39m\u001b[32m    201\u001b[39m             \u001b[38;5;28;01mNone\u001b[39;00m,\n\u001b[32m    202\u001b[39m         )\n",
      "\u001b[36mFile \u001b[39m\u001b[32m~/miniforge/envs/DFT/lib/python3.12/site-packages/mace/modules/utils.py:50\u001b[39m, in \u001b[36mcompute_forces_virials\u001b[39m\u001b[34m(energy, positions, displacement, cell, training, compute_stress)\u001b[39m\n\u001b[32m     41\u001b[39m \u001b[38;5;28;01mdef\u001b[39;00m\u001b[38;5;250m \u001b[39m\u001b[34mcompute_forces_virials\u001b[39m(\n\u001b[32m     42\u001b[39m     energy: torch.Tensor,\n\u001b[32m     43\u001b[39m     positions: torch.Tensor,\n\u001b[32m   (...)\u001b[39m\u001b[32m     47\u001b[39m     compute_stress: \u001b[38;5;28mbool\u001b[39m = \u001b[38;5;28;01mFalse\u001b[39;00m,\n\u001b[32m     48\u001b[39m ) -> Tuple[torch.Tensor, Optional[torch.Tensor], Optional[torch.Tensor]]:\n\u001b[32m     49\u001b[39m     grad_outputs: List[Optional[torch.Tensor]] = [torch.ones_like(energy)]\n\u001b[32m---> \u001b[39m\u001b[32m50\u001b[39m     forces, virials = \u001b[43mtorch\u001b[49m\u001b[43m.\u001b[49m\u001b[43mautograd\u001b[49m\u001b[43m.\u001b[49m\u001b[43mgrad\u001b[49m\u001b[43m(\u001b[49m\n\u001b[32m     51\u001b[39m \u001b[43m        \u001b[49m\u001b[43moutputs\u001b[49m\u001b[43m=\u001b[49m\u001b[43m[\u001b[49m\u001b[43menergy\u001b[49m\u001b[43m]\u001b[49m\u001b[43m,\u001b[49m\u001b[43m  \u001b[49m\u001b[38;5;66;43;03m# [n_graphs, ]\u001b[39;49;00m\n\u001b[32m     52\u001b[39m \u001b[43m        \u001b[49m\u001b[43minputs\u001b[49m\u001b[43m=\u001b[49m\u001b[43m[\u001b[49m\u001b[43mpositions\u001b[49m\u001b[43m,\u001b[49m\u001b[43m \u001b[49m\u001b[43mdisplacement\u001b[49m\u001b[43m]\u001b[49m\u001b[43m,\u001b[49m\u001b[43m  \u001b[49m\u001b[38;5;66;43;03m# [n_nodes, 3]\u001b[39;49;00m\n\u001b[32m     53\u001b[39m \u001b[43m        \u001b[49m\u001b[43mgrad_outputs\u001b[49m\u001b[43m=\u001b[49m\u001b[43mgrad_outputs\u001b[49m\u001b[43m,\u001b[49m\n\u001b[32m     54\u001b[39m \u001b[43m        \u001b[49m\u001b[43mretain_graph\u001b[49m\u001b[43m=\u001b[49m\u001b[43mtraining\u001b[49m\u001b[43m,\u001b[49m\u001b[43m  \u001b[49m\u001b[38;5;66;43;03m# Make sure the graph is not destroyed during training\u001b[39;49;00m\n\u001b[32m     55\u001b[39m \u001b[43m        \u001b[49m\u001b[43mcreate_graph\u001b[49m\u001b[43m=\u001b[49m\u001b[43mtraining\u001b[49m\u001b[43m,\u001b[49m\u001b[43m  \u001b[49m\u001b[38;5;66;43;03m# Create graph for second derivative\u001b[39;49;00m\n\u001b[32m     56\u001b[39m \u001b[43m        \u001b[49m\u001b[43mallow_unused\u001b[49m\u001b[43m=\u001b[49m\u001b[38;5;28;43;01mTrue\u001b[39;49;00m\u001b[43m,\u001b[49m\n\u001b[32m     57\u001b[39m \u001b[43m    \u001b[49m\u001b[43m)\u001b[49m\n\u001b[32m     58\u001b[39m     stress = torch.zeros_like(displacement)\n\u001b[32m     59\u001b[39m     \u001b[38;5;28;01mif\u001b[39;00m compute_stress \u001b[38;5;129;01mand\u001b[39;00m virials \u001b[38;5;129;01mis\u001b[39;00m \u001b[38;5;129;01mnot\u001b[39;00m \u001b[38;5;28;01mNone\u001b[39;00m:\n",
      "\u001b[36mFile \u001b[39m\u001b[32m~/miniforge/envs/DFT/lib/python3.12/site-packages/torch/autograd/__init__.py:503\u001b[39m, in \u001b[36mgrad\u001b[39m\u001b[34m(outputs, inputs, grad_outputs, retain_graph, create_graph, only_inputs, allow_unused, is_grads_batched, materialize_grads)\u001b[39m\n\u001b[32m    499\u001b[39m     result = _vmap_internals._vmap(vjp, \u001b[32m0\u001b[39m, \u001b[32m0\u001b[39m, allow_none_pass_through=\u001b[38;5;28;01mTrue\u001b[39;00m)(\n\u001b[32m    500\u001b[39m         grad_outputs_\n\u001b[32m    501\u001b[39m     )\n\u001b[32m    502\u001b[39m \u001b[38;5;28;01melse\u001b[39;00m:\n\u001b[32m--> \u001b[39m\u001b[32m503\u001b[39m     result = \u001b[43m_engine_run_backward\u001b[49m\u001b[43m(\u001b[49m\n\u001b[32m    504\u001b[39m \u001b[43m        \u001b[49m\u001b[43moutputs\u001b[49m\u001b[43m,\u001b[49m\n\u001b[32m    505\u001b[39m \u001b[43m        \u001b[49m\u001b[43mgrad_outputs_\u001b[49m\u001b[43m,\u001b[49m\n\u001b[32m    506\u001b[39m \u001b[43m        \u001b[49m\u001b[43mretain_graph\u001b[49m\u001b[43m,\u001b[49m\n\u001b[32m    507\u001b[39m \u001b[43m        \u001b[49m\u001b[43mcreate_graph\u001b[49m\u001b[43m,\u001b[49m\n\u001b[32m    508\u001b[39m \u001b[43m        \u001b[49m\u001b[43minputs\u001b[49m\u001b[43m,\u001b[49m\n\u001b[32m    509\u001b[39m \u001b[43m        \u001b[49m\u001b[43mallow_unused\u001b[49m\u001b[43m,\u001b[49m\n\u001b[32m    510\u001b[39m \u001b[43m        \u001b[49m\u001b[43maccumulate_grad\u001b[49m\u001b[43m=\u001b[49m\u001b[38;5;28;43;01mFalse\u001b[39;49;00m\u001b[43m,\u001b[49m\n\u001b[32m    511\u001b[39m \u001b[43m    \u001b[49m\u001b[43m)\u001b[49m\n\u001b[32m    512\u001b[39m \u001b[38;5;28;01mif\u001b[39;00m materialize_grads:\n\u001b[32m    513\u001b[39m     \u001b[38;5;28;01mif\u001b[39;00m \u001b[38;5;28many\u001b[39m(\n\u001b[32m    514\u001b[39m         result[i] \u001b[38;5;129;01mis\u001b[39;00m \u001b[38;5;28;01mNone\u001b[39;00m \u001b[38;5;129;01mand\u001b[39;00m \u001b[38;5;129;01mnot\u001b[39;00m is_tensor_like(inputs[i])\n\u001b[32m    515\u001b[39m         \u001b[38;5;28;01mfor\u001b[39;00m i \u001b[38;5;129;01min\u001b[39;00m \u001b[38;5;28mrange\u001b[39m(\u001b[38;5;28mlen\u001b[39m(inputs))\n\u001b[32m    516\u001b[39m     ):\n",
      "\u001b[36mFile \u001b[39m\u001b[32m~/miniforge/envs/DFT/lib/python3.12/site-packages/torch/autograd/graph.py:829\u001b[39m, in \u001b[36m_engine_run_backward\u001b[39m\u001b[34m(t_outputs, *args, **kwargs)\u001b[39m\n\u001b[32m    827\u001b[39m     unregister_hooks = _register_logging_hooks_on_whole_graph(t_outputs)\n\u001b[32m    828\u001b[39m \u001b[38;5;28;01mtry\u001b[39;00m:\n\u001b[32m--> \u001b[39m\u001b[32m829\u001b[39m     \u001b[38;5;28;01mreturn\u001b[39;00m \u001b[43mVariable\u001b[49m\u001b[43m.\u001b[49m\u001b[43m_execution_engine\u001b[49m\u001b[43m.\u001b[49m\u001b[43mrun_backward\u001b[49m\u001b[43m(\u001b[49m\u001b[43m  \u001b[49m\u001b[38;5;66;43;03m# Calls into the C++ engine to run the backward pass\u001b[39;49;00m\n\u001b[32m    830\u001b[39m \u001b[43m        \u001b[49m\u001b[43mt_outputs\u001b[49m\u001b[43m,\u001b[49m\u001b[43m \u001b[49m\u001b[43m*\u001b[49m\u001b[43margs\u001b[49m\u001b[43m,\u001b[49m\u001b[43m \u001b[49m\u001b[43m*\u001b[49m\u001b[43m*\u001b[49m\u001b[43mkwargs\u001b[49m\n\u001b[32m    831\u001b[39m \u001b[43m    \u001b[49m\u001b[43m)\u001b[49m  \u001b[38;5;66;03m# Calls into the C++ engine to run the backward pass\u001b[39;00m\n\u001b[32m    832\u001b[39m \u001b[38;5;28;01mfinally\u001b[39;00m:\n\u001b[32m    833\u001b[39m     \u001b[38;5;28;01mif\u001b[39;00m attach_logging_hooks:\n",
      "\u001b[31mKeyboardInterrupt\u001b[39m: "
     ]
    }
   ],
   "source": [
    "if os.path.exists(ACTIVE_LEARNING_FILE):\n",
    "    with open(ACTIVE_LEARNING_FILE, 'rb') as f:\n",
    "        active_learning_pool = pickle.load(f)\n",
    "    print(f\"Loaded {len(active_learning_pool)} samples from active learning pool.\")\n",
    "else:\n",
    "    active_learning_pool = []\n",
    "    print(\"Initialized empty active learning pool.\")\n",
    "\n",
    "dyn = Langevin(\n",
    "    atoms,\n",
    "    timestep=1.0 * units.fs,\n",
    "    temperature_K=300,\n",
    "    friction=0.01 / units.fs,\n",
    "    trajectory='outputs/adaptive_mlmd.traj'\n",
    ")\n",
    "\n",
    "hybrid_calc = HybridCalculator(mace_calc, xtb_calc, R_inner=2.5, R_outer=4.5)\n",
    "\n",
    "print(\"Setting energy offset for hybrid calculator...\")\n",
    "hybrid_calc.set_energy_offset(atoms)\n",
    "\n",
    "print(\"Starting adaptive ML-MD...\")\n",
    "\n",
    "atoms.calc = hybrid_calc\n",
    "for step in range(MAX_STEPS):\n",
    "    dyn.run(steps=1)\n",
    "    \n",
    "    if step % CHECK_INTERVAL == 0:\n",
    "        is_reactive, reactive_indices = analyze_reaction(atoms, verbose=True)\n",
    "        if is_reactive:\n",
    "            hybrid_calc.calculate(atoms=atoms, reactive_indices=reactive_indices)\n",
    "            print(f\"\\n Reaction detected at step {step}\")\n",
    "            # Compute energies and forces\n",
    "            E_hybrid = hybrid_calc.results['energy']\n",
    "            F_hybrid = hybrid_calc.results['forces']\n",
    "\n",
    "            E_mlp = atoms.get_potential_energy()\n",
    "            F_mlp = atoms.get_forces()\n",
    "            \n",
    "            dE = abs(E_hybrid- E_mlp)\n",
    "            dF = np.mean(np.linalg.norm(F_hybrid - F_mlp, axis=1))\n",
    "            print(f\"dE = {dE:.4f} eV, dF = {dF:.4f} eV/Å\")\n",
    "\n",
    "            # Check if errors exceed thresholds\n",
    "            if dE > ERROR_THRESHOLD_ENERGY or dF > ERROR_THRESHOLD_FORCE:\n",
    "                sample = {\n",
    "                    'atoms': atoms.copy(), \n",
    "                    'energy': E_hybrid, \n",
    "                    'forces': F_hybrid.copy(), \n",
    "                    'step': step,\n",
    "                    'reactive_indices': reactive_indices\n",
    "                    }\n",
    "                active_learning_pool.append(sample)\n",
    "                print(\"Added to active learning pool\")\n",
    "\n",
    "                with open(ACTIVE_LEARNING_FILE, 'wb') as f:\n",
    "                    pickle.dump(active_learning_pool, f)\n",
    "\n",
    "                # Check if we need to trigger fine-tuning\n",
    "                if len(active_learning_pool) >= FINETUNE_EVERY_N_SAMPLES:\n",
    "                    print(\"\\n Triggering MACE fine-tuning...\")\n",
    "                    print(\"Please run Cell 6 to fine-tune the model.\")\n",
    "                    break\n",
    "        else:\n",
    "            print(f\"No reaction detected at step {step}.\")\n",
    "print(\"Adaptive MD finished.\")"
   ]
  }
 ],
 "metadata": {
  "kernelspec": {
   "display_name": "DFT",
   "language": "python",
   "name": "python3"
  },
  "language_info": {
   "codemirror_mode": {
    "name": "ipython",
    "version": 3
   },
   "file_extension": ".py",
   "mimetype": "text/x-python",
   "name": "python",
   "nbconvert_exporter": "python",
   "pygments_lexer": "ipython3",
   "version": "3.12.11"
  }
 },
 "nbformat": 4,
 "nbformat_minor": 5
}
