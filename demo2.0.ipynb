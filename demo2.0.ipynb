{
 "cells": [
  {
   "cell_type": "code",
   "execution_count": 1,
   "id": "fe6af04f",
   "metadata": {},
   "outputs": [
    {
     "name": "stderr",
     "output_type": "stream",
     "text": [
      "/home/netszx/miniforge/envs/DFT/lib/python3.12/site-packages/e3nn/o3/_wigner.py:10: UserWarning: Environment variable TORCH_FORCE_NO_WEIGHTS_ONLY_LOAD detected, since the`weights_only` argument was not explicitly passed to `torch.load`, forcing weights_only=False.\n",
      "  _Jd, _W3j_flat, _W3j_indices = torch.load(os.path.join(os.path.dirname(__file__), 'constants.pt'))\n"
     ]
    },
    {
     "name": "stdout",
     "output_type": "stream",
     "text": [
      "cuequivariance or cuequivariance_torch is not available. Cuequivariance acceleration will be disabled.\n"
     ]
    }
   ],
   "source": [
    "import torch\n",
    "from xtb.ase.calculator import XTB\n",
    "from ase.calculators.dftb import Dftb\n",
    "import numpy as np\n",
    "import os\n",
    "from ase.io import read, write\n",
    "from ase.md.langevin import Langevin\n",
    "from ase import units\n",
    "from mace.calculators import MACECalculator\n",
    "import pickle\n",
    "from src.reaction_detector import analyze_reaction\n",
    "from src.hybrid_calculator import HybridCalculator"
   ]
  },
  {
   "cell_type": "code",
   "execution_count": 2,
   "id": "c24a41bc",
   "metadata": {},
   "outputs": [],
   "source": [
    "atoms = read('structure/Constrainted_Layer.xyz')\n",
    "atoms.pbc = True"
   ]
  },
  {
   "cell_type": "code",
   "execution_count": 3,
   "id": "7a2ca1f5",
   "metadata": {},
   "outputs": [
    {
     "name": "stdout",
     "output_type": "stream",
     "text": [
      "Using head Default out of ['Default']\n"
     ]
    }
   ],
   "source": [
    "MACE_MODEL = '/home/netszx/models/2024-01-07-mace-128-L2_epoch-199.model'\n",
    "mace_calc = MACECalculator(model_paths = MACE_MODEL, device=\"cuda\" if torch.cuda.is_available() else \"cpu\", default_dtype=\"float64\")\n",
    "xtb_calc = XTB(method='GFN1-xTB',accuracy=2.0)"
   ]
  },
  {
   "cell_type": "code",
   "execution_count": null,
   "id": "3bc2db44",
   "metadata": {},
   "outputs": [],
   "source": [
    "os.makedirs('outputs', exist_ok=True)\n",
    "\n",
    "ACTIVE_LEARNING_FILE = \"active_learning_pool.pkl\"\n",
    "MAX_STEPS = 10000      # Maximum MD steps\n",
    "CHECK_INTERVAL = 100   # Check for reactions every N steps\n",
    "ERROR_THRESHOLD_ENERGY = 0.1   # eV\n",
    "ERROR_THRESHOLD_FORCE = 0.1    # eV/Å\n",
    "FINETUNE_EVERY_N_SAMPLES = 30  # Number of samples to trigger fine-tuning\n",
    "if os.path.exists(ACTIVE_LEARNING_FILE):\n",
    "    with open(ACTIVE_LEARNING_FILE, 'rb') as f:\n",
    "        active_learning_pool = pickle.load(f)\n",
    "    print(f\"Loaded {len(active_learning_pool)} samples from active learning pool.\")\n",
    "else:\n",
    "    active_learning_pool = []\n",
    "    print(\"Initialized empty active learning pool.\")"
   ]
  },
  {
   "cell_type": "code",
   "execution_count": null,
   "id": "f829939a",
   "metadata": {},
   "outputs": [
    {
     "name": "stdout",
     "output_type": "stream",
     "text": [
      "Setting energy offset for hybrid calculator...\n"
     ]
    }
   ],
   "source": [
    "dyn = Langevin(\n",
    "    atoms,\n",
    "    timestep=1.0 * units.fs,\n",
    "    temperature_K=300,\n",
    "    friction=0.01 / units.fs,\n",
    "    trajectory='outputs/adaptive_mlmd.traj'\n",
    ")\n",
    "\n",
    "hybrid_calc = HybridCalculator(mace_calc, xtb_calc, R_inner=2.5, R_outer=4.5)\n",
    "\n",
    "print(\"Setting energy offset for hybrid calculator...\")\n",
    "hybrid_calc.set_energy_offset(atoms)\n",
    "\n",
    "print(\"Starting adaptive ML-MD...\")\n",
    "\n",
    "atoms.calc = hybrid_calc"
   ]
  },
  {
   "cell_type": "code",
   "execution_count": null,
   "id": "ae921d12",
   "metadata": {},
   "outputs": [
    {
     "name": "stdout",
     "output_type": "stream",
     "text": [
      "Loaded 30 samples from active learning pool.\n",
      "Setting energy offset for hybrid calculator...\n"
     ]
    }
   ],
   "source": [
    "for step in range(MAX_STEPS):\n",
    "    dyn.run(steps=1)\n",
    "    \n",
    "    if step % CHECK_INTERVAL == 0:\n",
    "        is_reactive, reactive_indices = analyze_reaction(atoms, verbose=True)\n",
    "        if is_reactive:\n",
    "            hybrid_calc.calculate(atoms=atoms, reactive_indices=reactive_indices)\n",
    "            print(f\"\\n Reaction detected at step {step}\")\n",
    "            # Compute energies and forces\n",
    "            E_hybrid = hybrid_calc.results['energy']\n",
    "            F_hybrid = hybrid_calc.results['forces']\n",
    "\n",
    "            E_mlp = atoms.get_potential_energy()\n",
    "            F_mlp = atoms.get_forces()\n",
    "            \n",
    "            dE = abs(E_hybrid- E_mlp)\n",
    "            dF = np.mean(np.linalg.norm(F_hybrid - F_mlp, axis=1))\n",
    "            print(f\"dE = {dE:.4f} eV, dF = {dF:.4f} eV/Å\")\n",
    "\n",
    "            # Check if errors exceed thresholds\n",
    "            if dE > ERROR_THRESHOLD_ENERGY or dF > ERROR_THRESHOLD_FORCE:\n",
    "                sample = {\n",
    "                    'atoms': atoms.copy(), \n",
    "                    'energy': E_hybrid, \n",
    "                    'forces': F_hybrid.copy(), \n",
    "                    'step': step,\n",
    "                    'reactive_indices': reactive_indices\n",
    "                    }\n",
    "                active_learning_pool.append(sample)\n",
    "                print(\"Added to active learning pool\")\n",
    "\n",
    "                with open(ACTIVE_LEARNING_FILE, 'wb') as f:\n",
    "                    pickle.dump(active_learning_pool, f)\n",
    "\n",
    "                # Check if we need to trigger fine-tuning\n",
    "                if len(active_learning_pool) >= FINETUNE_EVERY_N_SAMPLES:\n",
    "                    print(\"\\n Triggering MACE fine-tuning...\")\n",
    "                    print(\"Please run Cell 6 to fine-tune the model.\")\n",
    "                    break\n",
    "        else:\n",
    "            print(f\"No reaction detected at step {step}.\")\n",
    "print(\"Adaptive MD finished.\")"
   ]
  },
  {
   "cell_type": "code",
   "execution_count": null,
   "id": "e59f03f3",
   "metadata": {},
   "outputs": [],
   "source": [
    "import pickle\n",
    "import os\n",
    "from ase import Atoms\n",
    "\n",
    "ACTIVE_LEARNING_FILE = 'active_learning_pool.pkl'\n",
    "OUTPUT_DIR = 'Snapshots/al_xyz_snapshots'\n",
    "\n",
    "os.makedirs(OUTPUT_DIR, exist_ok=True)\n",
    "\n",
    "if not os.path.exists(ACTIVE_LEARNING_FILE):\n",
    "    raise FileNotFoundError(f\"Files not found: {ACTIVE_LEARNING_FILE}\")\n",
    "\n",
    "with open(ACTIVE_LEARNING_FILE, 'rb') as f:\n",
    "    active_learning_pool = pickle.load(f)\n",
    "\n",
    "print(f\"Loding Sample {len(active_learning_pool)}\")\n",
    "\n",
    "if len(active_learning_pool) == 0:\n",
    "    print(\"active_learning_pool is None\")\n",
    "else:\n",
    "    for idx, sample in enumerate(active_learning_pool):\n",
    "        atoms: Atoms = sample['atoms']\n",
    "        step = sample.get('step', idx)\n",
    "        energy_ref = sample.get('energy_ref', sample.get('energy', 'unknown'))\n",
    "        E_mlp = sample.get('energy_mlp', 'unknown')\n",
    "\n",
    "        if isinstance(energy_ref, (float, int)):\n",
    "            atoms.info['E_ref'] = energy_ref\n",
    "        if isinstance(E_mlp, (float, int)):\n",
    "            atoms.info['E_mlp'] = E_mlp\n",
    "        atoms.info['step'] = step\n",
    "\n",
    "        filename = os.path.join(OUTPUT_DIR, f'al_snapshot_{idx:03d}_step{step}.xyz')\n",
    "        atoms.write(filename)\n",
    "        print(f\"File saved: {filename}\")"
   ]
  }
 ],
 "metadata": {
  "kernelspec": {
   "display_name": "DFT",
   "language": "python",
   "name": "python3"
  },
  "language_info": {
   "codemirror_mode": {
    "name": "ipython",
    "version": 3
   },
   "file_extension": ".py",
   "mimetype": "text/x-python",
   "name": "python",
   "nbconvert_exporter": "python",
   "pygments_lexer": "ipython3",
   "version": "3.12.11"
  }
 },
 "nbformat": 4,
 "nbformat_minor": 5
}
